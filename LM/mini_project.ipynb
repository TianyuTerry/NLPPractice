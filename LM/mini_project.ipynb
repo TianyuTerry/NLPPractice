{
 "cells": [
  {
   "cell_type": "markdown",
   "metadata": {
    "colab_type": "text",
    "id": "pf_8OI34CdXU"
   },
   "source": [
    "<img src=\"sutd.png\" alt=\"drawing\" style=\"width:300px;\"/>\n",
    "\n",
    "## <center>50.040 Natural Language Processing, Summer 2020<center>\n",
    "<center>**Due 19 June 2020, 5pm** <center>\n",
    "Mini Project"
   ]
  },
  {
   "cell_type": "markdown",
   "metadata": {
    "colab_type": "text",
    "id": "YAN5MA5GCdXU"
   },
   "source": [
    "**Write your student ID and name**\n",
    "\n",
    "\n",
    "### STUDNET ID: 1002961\n",
    "\n",
    "### Name: Wu Tianyu\n",
    "\n",
    "### Students with whom you have discussed (if any): None"
   ]
  },
  {
   "cell_type": "markdown",
   "metadata": {
    "colab_type": "text",
    "id": "V0iF5uWcCdXV"
   },
   "source": [
    "# Introduction\n",
    "\n",
    "Language models are very useful for a wide range of applications, e.g., speech recognition and machine translation. Consider a sentence consisting of words $x_1, x_2, …, x_m$, where $m$ is the length of the sentence, the goal of language modeling is to model the probability of the sentence, where $m \\geq 1$, $x_i \\in V $ and $V$ is the vocabulary of the corpus:\n",
    "$$p(x_1, x_2, …, x_m)$$\n",
    "In this project, we are going to explore both statistical language model and neural language model on the [Wikitext-2](https://blog.einstein.ai/the-wikitext-long-term-dependency-language-modeling-dataset/) datasets. Download wikitext-2 word-level data and put it under the ``data`` folder.\n",
    "\n",
    "## Statistical  Language Model\n",
    "\n",
    "A simple way is to view words as independent random variables (i.e., zero-th order Markovian assumption). The joint probability can be written as:\n",
    "$$p(x_1, x_2, …, x_m)=\\prod_{i=1}^m p(x_i)$$\n",
    "However, this model ignores the word order information, to account for which, under the first-order Markovian assumption, the joint probability can be written as:\n",
    "$$p(x_0, x_1, x_2, …, x_m)= \\prod_{i=1}^{m}p(x_i \\mid x_{i-1})$$\n",
    "Under the second-order Markovian assumption, the joint probability can be written as:\n",
    "$$p(x_{-1}, x_0, x_1, x_2, …, x_m)= \\prod_{i=1}^{m}p(x_i \\mid x_{i-2}, x_{i-1})$$\n",
    "Similar to what we did in HMM, we will assume that $x_{-1}=START, x_0=START, x_m = STOP$ in this definition, where $START, STOP$ are special symbols referring to the start and the end of a sentence.\n",
    "\n",
    "\n",
    "\n",
    "\n",
    "\n"
   ]
  },
  {
   "cell_type": "markdown",
   "metadata": {
    "colab_type": "text",
    "id": "F5wC4lqKCdXW"
   },
   "source": [
    "### Parameter estimation\n",
    "\n",
    "Let's use $count(u)$ to denote the number of times the unigram $u$ appears in the corpus, use $count(v, u)$ to denote the number of times the bigram $v, u$ appears in the corpus, and $count(w, v, u)$ the times the trigram $w, v, u$ appears in the corpus, $u \\in V \\cup STOP$ and $w, v \\in V \\cup START$.\n",
    "\n",
    "And the parameters of the unigram, bigram and trigram models can be obtained using maximum likelihood estimation (MLE).\n",
    "\n",
    "- In the unigram model, the parameters can be estimated as: $$p(u) = \\frac {count(u)}{c}$$, where $c$ is the total number of words in the corpus.\n",
    "- In the bigram model, the parameters can be estimated as:\n",
    "$$p(u \\mid v) = \\frac{count(v, u)}{count(v)}$$\n",
    "- In the trigram model, the parameters can be estimated as:\n",
    "$$p(u \\mid w, v) = \\frac{count(w, v, u)}{count(w, v)}$$\n",
    "\n",
    "\n"
   ]
  },
  {
   "cell_type": "code",
   "execution_count": 1,
   "metadata": {},
   "outputs": [
    {
     "data": {
      "application/javascript": [
       "MathJax.Hub.Config({\n",
       "  TeX: { equationNumbers: { autoNumber: \"AMS\" } }\n",
       "});\n"
      ],
      "text/plain": [
       "<IPython.core.display.Javascript object>"
      ]
     },
     "metadata": {},
     "output_type": "display_data"
    }
   ],
   "source": [
    "%%javascript\n",
    "MathJax.Hub.Config({\n",
    "  TeX: { equationNumbers: { autoNumber: \"AMS\" } }\n",
    "});"
   ]
  },
  {
   "cell_type": "markdown",
   "metadata": {
    "colab_type": "text",
    "id": "C7dks8t0CdXW"
   },
   "source": [
    "### Smoothing the parameters\n",
    "Note, it is likely that many parameters of bigram and trigram models will be 0 because the relevant bigrams and trigrams involved do not appear in the corpus. If you don't have a way to handle these 0 probabilities, all the sentences that include such bigrams or trigrams will have probabilities of 0.\n",
    "\n",
    "We'll use a Add-k Smoothing method to fix this problem, the smoothed parameter can be estimated as:\n",
    "\\begin{equation}\n",
    "p_{add-k}(u)= \\frac{count(u)+k}{c+k|V^*|}\n",
    "\\end{equation}\n",
    "\\begin{equation}\n",
    "p_{add-k}(u \\mid v)= \\frac{count(v, u)+k}{count(v)+k|V^*|}\n",
    "\\end{equation}\n",
    "\\begin{equation}\n",
    "p_{add-k}(u \\mid w, v)= \\frac{count(w, v, u)+k}{count(w, v)+k|V^*|}\n",
    "\\end{equation}\n",
    "\n",
    "where $k \\in (0, 1)$ is the parameter of this approach, and $|V^*|$ is the size of the vocabulary $V^*$,here $V^*= V \\cup STOP$. One way to choose the value of $k$ is by\n",
    "optimizing the perplexity of the development set, namely to choose the value that minimizes the perplexity."
   ]
  },
  {
   "cell_type": "markdown",
   "metadata": {
    "colab_type": "text",
    "id": "SNVha_8UCdXX"
   },
   "source": [
    "### Perplexity\n",
    "\n",
    "Given a test set $D^{\\prime}$ consisting of sentences $X^{(1)}, X^{(2)}, …, X^{(|D^{\\prime}|)}$, each sentence $X^{(j)}$ consists of words $x_1^{(j)}, x_2^{(j)},…,x_{n_j}^{(j)}$, we can measure the probability of each sentence $s_i$, and the quality of the language model would be the probability it assigns to the entire set of test sentences, namely:\n",
    "\\begin{equation} \n",
    "\\prod_j^{D^{\\prime}}p(X^{(j)})\n",
    "\\end{equation}\n",
    "Let's define average log2 probability as:\n",
    "\\begin{equation} \n",
    "l=\\frac{1}{c^{\\prime}}\\sum_{j=1}^{|D^{\\prime}|}log_2p(X^{(j)})\n",
    "\\end{equation}\n",
    "$c^{\\prime}$ is the total number of words in the test set, $D^{\\prime}$ is the number of sentences. And the perplexity is defined as:\n",
    "\\begin{equation} \n",
    "perplexity=2^{-l}\n",
    "\\end{equation}\n",
    "\n",
    "The lower the perplexity, the better the language model."
   ]
  },
  {
   "cell_type": "code",
   "execution_count": 2,
   "metadata": {},
   "outputs": [],
   "source": [
    "from collections import Counter, namedtuple\n",
    "import itertools\n",
    "import numpy as np"
   ]
  },
  {
   "cell_type": "code",
   "execution_count": 3,
   "metadata": {},
   "outputs": [],
   "source": [
    "with open('data/wikitext-2/wiki.train.tokens', 'r', encoding='utf8') as f:\n",
    "    text = f.readlines()\n",
    "    train_sents = [line.lower().strip('\\n').split() for line in text]\n",
    "    train_sents = [s for s in train_sents if len(s)>0 and s[0] != '=']"
   ]
  },
  {
   "cell_type": "code",
   "execution_count": 4,
   "metadata": {},
   "outputs": [
    {
     "name": "stdout",
     "output_type": "stream",
     "text": [
      "['the', 'game', 'began', 'development', 'in', '2010', ',', 'carrying', 'over', 'a', 'large', 'portion', 'of', 'the', 'work', 'done', 'on', 'valkyria', 'chronicles', 'ii', '.', 'while', 'it', 'retained', 'the', 'standard', 'features', 'of', 'the', 'series', ',', 'it', 'also', 'underwent', 'multiple', 'adjustments', ',', 'such', 'as', 'making', 'the', 'game', 'more', '<unk>', 'for', 'series', 'newcomers', '.', 'character', 'designer', '<unk>', 'honjou', 'and', 'composer', 'hitoshi', 'sakimoto', 'both', 'returned', 'from', 'previous', 'entries', ',', 'along', 'with', 'valkyria', 'chronicles', 'ii', 'director', 'takeshi', 'ozawa', '.', 'a', 'large', 'team', 'of', 'writers', 'handled', 'the', 'script', '.', 'the', 'game', \"'s\", 'opening', 'theme', 'was', 'sung', 'by', 'may', \"'n\", '.']\n"
     ]
    }
   ],
   "source": [
    "print(train_sents[1])"
   ]
  },
  {
   "cell_type": "markdown",
   "metadata": {
    "colab_type": "text",
    "id": "G0vxL-WpCdXX"
   },
   "source": [
    "### Question 1 [code][written]\n",
    "1. Implement the function **\"compute_ngram\"** that computes n-grams in the corpus.\n",
    " (Do not take the START and STOP symbols into consideration for now.) \n",
    " For n=1,2,3, the number of unique n-grams should be **28910/577343/1344047**, respectively.\n",
    "2. List 10 most frequent unigrams, bigrams and trigrams as well as their counts.(Hint: use the built-in function .most_common in Counter class)"
   ]
  },
  {
   "cell_type": "code",
   "execution_count": 9,
   "metadata": {
    "colab": {},
    "colab_type": "code",
    "id": "TOyoT-QiCdXY"
   },
   "outputs": [],
   "source": [
    "def compute_ngram(sents, n):\n",
    "    '''\n",
    "    Compute n-grams that appear in \"sents\".\n",
    "    param:\n",
    "        sents: list[list[str]] --- list of list of word strings\n",
    "        n: int --- \"n\" gram\n",
    "    return:\n",
    "        ngram_set: set{str} --- a set of n-grams (no duplicate elements)\n",
    "        ngram_dict: dict{ngram: counts} --- a dictionary that maps each ngram to its number occurence in \"sents\";\n",
    "        This dict contains the parameters of our ngram model. E.g. if n=2, ngram_dict={('a','b'):10, ('b','c'):13}\n",
    "        \n",
    "        You may need to use \"Counter\", \"tuple\" function here.\n",
    "    '''\n",
    "    ngram_set = set()\n",
    "    ngram_dict = dict()\n",
    "    ### YOUR CODE HERE\n",
    "    for sent in sents:\n",
    "        for i in range(len(sent)-n+1):\n",
    "            ngram = tuple(sent[i:i+n])\n",
    "            if ngram not in ngram_dict:\n",
    "                ngram_dict[ngram] = 1\n",
    "                ngram_set.add(ngram)\n",
    "            else:\n",
    "                ngram_dict[ngram] += 1\n",
    "                \n",
    "    \n",
    "    ### END OF YOUR CODE\n",
    "    return ngram_set, ngram_dict"
   ]
  },
  {
   "cell_type": "code",
   "execution_count": 10,
   "metadata": {},
   "outputs": [
    {
     "name": "stdout",
     "output_type": "stream",
     "text": [
      "28910\n"
     ]
    }
   ],
   "source": [
    "### ~28xxx\n",
    "unigram_set, unigram_dict = compute_ngram(train_sents, 1)\n",
    "print(len(unigram_set))"
   ]
  },
  {
   "cell_type": "code",
   "execution_count": 11,
   "metadata": {},
   "outputs": [
    {
     "name": "stdout",
     "output_type": "stream",
     "text": [
      "577343\n"
     ]
    }
   ],
   "source": [
    "### ~57xxxx\n",
    "bigram_set, bigram_dict = compute_ngram(train_sents, 2)\n",
    "print(len(bigram_set))"
   ]
  },
  {
   "cell_type": "code",
   "execution_count": 12,
   "metadata": {},
   "outputs": [
    {
     "name": "stdout",
     "output_type": "stream",
     "text": [
      "1344047\n"
     ]
    }
   ],
   "source": [
    "### ~134xxxx\n",
    "trigram_set, trigram_dict = compute_ngram(train_sents, 3)\n",
    "print(len(trigram_set))"
   ]
  },
  {
   "cell_type": "code",
   "execution_count": 19,
   "metadata": {},
   "outputs": [
    {
     "data": {
      "text/plain": [
       "({('the',): 130519,\n",
       "  (',',): 99763,\n",
       "  ('.',): 73388,\n",
       "  ('of',): 56743,\n",
       "  ('<unk>',): 53951,\n",
       "  ('and',): 49940,\n",
       "  ('in',): 44876,\n",
       "  ('to',): 39462,\n",
       "  ('a',): 36140,\n",
       "  ('\"',): 28285},\n",
       " {('of', 'the'): 17242,\n",
       "  ('in', 'the'): 11778,\n",
       "  (',', 'and'): 11643,\n",
       "  ('.', 'the'): 11274,\n",
       "  (',', 'the'): 8024,\n",
       "  ('<unk>', ','): 7698,\n",
       "  ('to', 'the'): 6009,\n",
       "  ('on', 'the'): 4495,\n",
       "  ('the', '<unk>'): 4389,\n",
       "  ('and', 'the'): 4331},\n",
       " {(',', 'and', 'the'): 1393,\n",
       "  (',', '<unk>', ','): 950,\n",
       "  ('<unk>', ',', '<unk>'): 901,\n",
       "  ('one', 'of', 'the'): 866,\n",
       "  ('<unk>', ',', 'and'): 819,\n",
       "  ('.', 'however', ','): 775,\n",
       "  ('<unk>', '<unk>', ','): 745,\n",
       "  ('.', 'in', 'the'): 726,\n",
       "  ('.', 'it', 'was'): 698,\n",
       "  ('the', 'united', 'states'): 666})"
      ]
     },
     "execution_count": 19,
     "metadata": {},
     "output_type": "execute_result"
    }
   ],
   "source": [
    "# List 10 most frequent unigrams, bigrams and trigrams as well as their counts.\n",
    "unigram_dict_sorted = {k: v for k, v in sorted(unigram_dict.items(), key=lambda item: item[1], reverse=True)[:10]}\n",
    "bigram_dict_sorted = {k: v for k, v in sorted(bigram_dict.items(), key=lambda item: item[1], reverse=True)[:10]}\n",
    "trigram_dict_sorted = {k: v for k, v in sorted(trigram_dict.items(), key=lambda item: item[1], reverse=True)[:10]}\n",
    "unigram_dict_sorted, bigram_dict_sorted, trigram_dict_sorted"
   ]
  },
  {
   "cell_type": "markdown",
   "metadata": {
    "colab_type": "text",
    "id": "PVpoDgU7CdXb"
   },
   "source": [
    "### Question 2 [code][written]\n",
    "In this part, we take the START and STOP symbols into consideration. So we need to pad the **train_sents** as described in \"Statistical Language Model\" before we apply \"compute_ngram\" function. For example, given a sentence \"I like NLP\", in a bigram model, we need to pad it as \"START I like NLP STOP\", in a trigram model, we need to pad it as \"START START I like NLP STOP\".\n",
    "\n",
    "1. Implement the ``pad_sents function``.\n",
    "2. Pad ``train_sents``.\n",
    "3. Apply ``compute_ngram`` function to these padded sents. \n",
    "4. Implement ``ngram_prob`` function. Compute the probability for each n-gram in the variable **ngrams** according to Eq.(1)(2)(3) in **\"smoothing the parameters\"** .List down the n-grams that have 0 probability. \n",
    "\n"
   ]
  },
  {
   "cell_type": "code",
   "execution_count": 20,
   "metadata": {},
   "outputs": [
    {
     "name": "stdout",
     "output_type": "stream",
     "text": [
      "[['the', 'computer'], ['go', 'to'], ['have', 'had'], ['and', 'the'], ['can', 'sea'], ['a', 'number', 'of'], ['with', 'respect', 'to'], ['in', 'terms', 'of'], ['not', 'good', 'bad'], ['first', 'start', 'with']]\n"
     ]
    }
   ],
   "source": [
    "###############################################\n",
    "ngrams = list()\n",
    "with open(r'data/ngram.txt','r') as f:\n",
    "    for line in f:\n",
    "        ngrams.append(line.strip('\\n').split())\n",
    "print(ngrams)\n",
    "###############################################"
   ]
  },
  {
   "cell_type": "markdown",
   "metadata": {},
   "source": [
    "#### I didn't know that unigram doesn't have a STOP symbol, this is really crucial for getting the correct perplexity in Q3"
   ]
  },
  {
   "cell_type": "code",
   "execution_count": 96,
   "metadata": {},
   "outputs": [],
   "source": [
    "START = '<START>'\n",
    "STOP = '<STOP>'\n",
    "###################################\n",
    "def pad_sents(sents, n):\n",
    "    '''\n",
    "    Pad the sents according to n.\n",
    "    params:\n",
    "        sents: list[list[str]] --- list of sentences.\n",
    "        n: int --- specify the padding type, 1-gram, 2-gram, or 3-gram.\n",
    "    return:\n",
    "        padded_sents: list[list[str]] --- list of padded sentences.\n",
    "    '''\n",
    "    padded_sents = None\n",
    "    ### YOUR CODE HERE\n",
    "    padded_sents = [[START]*(n-1) + sent + [STOP] for sent in sents] if n != 1 else sents\n",
    "    ### END OF YOUR CODE\n",
    "    return padded_sents"
   ]
  },
  {
   "cell_type": "code",
   "execution_count": 97,
   "metadata": {},
   "outputs": [],
   "source": [
    "uni_sents = pad_sents(train_sents, 1)\n",
    "bi_sents = pad_sents(train_sents, 2)\n",
    "tri_sents = pad_sents(train_sents, 3)"
   ]
  },
  {
   "cell_type": "code",
   "execution_count": 98,
   "metadata": {},
   "outputs": [],
   "source": [
    "unigram_set, unigram_dict = compute_ngram(uni_sents, 1)\n",
    "bigram_set, bigram_dict = compute_ngram(bi_sents, 2)\n",
    "trigram_set, trigram_dict = compute_ngram(tri_sents, 3)"
   ]
  },
  {
   "cell_type": "code",
   "execution_count": 99,
   "metadata": {},
   "outputs": [
    {
     "data": {
      "text/plain": [
       "(28910, 580825, 1363266)"
      ]
     },
     "execution_count": 99,
     "metadata": {},
     "output_type": "execute_result"
    }
   ],
   "source": [
    "### (28xxx, 58xxxx, 136xxxx)\n",
    "len(unigram_set),len(bigram_set),len(trigram_set)"
   ]
  },
  {
   "cell_type": "code",
   "execution_count": 100,
   "metadata": {},
   "outputs": [
    {
     "name": "stdout",
     "output_type": "stream",
     "text": [
      "2007146\n"
     ]
    }
   ],
   "source": [
    "### ~ 200xxxx; total number of words in wikitext-2.train\n",
    "num_words = sum([v for _,v in unigram_dict.items()])\n",
    "print(num_words)"
   ]
  },
  {
   "cell_type": "code",
   "execution_count": 101,
   "metadata": {},
   "outputs": [],
   "source": [
    "def ngram_prob(ngram, num_words, unigram_dic, bigram_dic, trigram_dic):\n",
    "    '''\n",
    "    params:\n",
    "        ngram: list[str] --- a list that represents n-gram\n",
    "        num_words: int --- total number of words\n",
    "        unigram_dic: dict{ngram: counts} --- a dictionary that maps each 1-gram to its number of occurences in \"sents\";\n",
    "        bigram_dic: dict{ngram: counts} --- a dictionary that maps each 2-gram to its number of occurence in \"sents\";\n",
    "        trigram_dic: dict{ngram: counts} --- a dictionary that maps each 3-gram to its number occurence in \"sents\";\n",
    "    return:\n",
    "        prob: float --- probability of the \"ngram\"\n",
    "    '''\n",
    "    prob = None\n",
    "    ### YOUR CODE HERE\n",
    "    if len(ngram) == 1:\n",
    "        prob = unigram_dic[tuple(ngram)]/num_words if tuple(ngram) in unigram_dic.keys() else 0\n",
    "    elif len(ngram) == 2:\n",
    "        SUM = sum([bigram_dic[bigram] for bigram in bigram_dic if bigram[0] == ngram[0]])\n",
    "        prob = bigram_dic[tuple(ngram)]/SUM if tuple(ngram) in bigram_dic.keys() and SUM != 0 else 0\n",
    "    elif len(ngram) == 3:\n",
    "        SUM = sum([trigram_dic[trigram] for trigram in trigram_dic if tuple(trigram[:2]) == tuple(ngram[:2])])\n",
    "        prob = trigram_dic[tuple(ngram)]/SUM if tuple(ngram) in trigram_dic.keys() and SUM != 0 else 0\n",
    "    ### END OF YOUR CODE\n",
    "    return prob"
   ]
  },
  {
   "cell_type": "code",
   "execution_count": 102,
   "metadata": {},
   "outputs": [
    {
     "data": {
      "text/plain": [
       "9.960235674499498e-05"
      ]
     },
     "execution_count": 102,
     "metadata": {},
     "output_type": "execute_result"
    }
   ],
   "source": [
    "### ~9.96e-05\n",
    "ngram_prob(ngrams[0], num_words,unigram_dict, bigram_dict, trigram_dict)"
   ]
  },
  {
   "cell_type": "code",
   "execution_count": 103,
   "metadata": {},
   "outputs": [
    {
     "data": {
      "text/plain": [
       "0.9573170731707317"
      ]
     },
     "execution_count": 103,
     "metadata": {},
     "output_type": "execute_result"
    }
   ],
   "source": [
    "ngram_prob(ngrams[5], num_words,unigram_dict, bigram_dict, trigram_dict)"
   ]
  },
  {
   "cell_type": "code",
   "execution_count": 104,
   "metadata": {},
   "outputs": [
    {
     "data": {
      "text/plain": [
       "[(['can', 'sea'], 0),\n",
       " (['not', 'good', 'bad'], 0),\n",
       " (['first', 'start', 'with'], 0)]"
      ]
     },
     "execution_count": 104,
     "metadata": {},
     "output_type": "execute_result"
    }
   ],
   "source": [
    "### List down the n-grams that have 0 probability. \n",
    "list(filter(lambda x: x[1]==0, [(ngram, ngram_prob(ngram, num_words,unigram_dict, bigram_dict, trigram_dict)) for ngram in ngrams]))"
   ]
  },
  {
   "cell_type": "code",
   "execution_count": 105,
   "metadata": {},
   "outputs": [
    {
     "data": {
      "text/plain": [
       "[['can', 'sea'], ['not', 'good', 'bad'], ['first', 'start', 'with']]"
      ]
     },
     "execution_count": 105,
     "metadata": {},
     "output_type": "execute_result"
    }
   ],
   "source": [
    "[ngram for ngram in ngrams if ngram_prob(ngram, num_words,unigram_dict, bigram_dict, trigram_dict) == 0]"
   ]
  },
  {
   "cell_type": "markdown",
   "metadata": {
    "colab_type": "text",
    "id": "2kAezpJ9CdXd"
   },
   "source": [
    "### Question 3 [code][written]\n",
    "\n",
    "1. Implement ``smooth_ngram_prob`` function to estimate ngram probability with ``add-k`` smoothing technique. Compute the smoothed probabilities of each n-gram in the variable **\"ngrams\"** according to Eq.(1)(2)(3) in **\"smoothing the parameters\"** section.\n",
    "2. Implement ``perplexity`` function to compute the perplexity of the corpus \"**valid_sents**\" according to the Equations (4),(5),(6) in **perplexity** section. The computation of $p(X^{(j)})$ depends on the n-gram model you choose. If you choose 2-gram model, then you need to calculate $p(X^{(j)})$ based on Eq.(2) in **smoothing the parameter** section. Hint: convert probability to log probability.\n",
    "3. Try out different $k\\in [0.1, 0.3, 0.5, 0.7, 0.9]$ and different n-gram model ($n=1,2,3$). Find the n-gram model and $k$ that gives the best perplexity on \"**valid_sents**\" (smaller is better)."
   ]
  },
  {
   "cell_type": "code",
   "execution_count": 106,
   "metadata": {},
   "outputs": [],
   "source": [
    "with open('data/wikitext-2/wiki.valid.tokens', 'r', encoding='utf8') as f:\n",
    "    text = f.readlines()\n",
    "    valid_sents = [line.lower().strip('\\n').split() for line in text]\n",
    "    valid_sents = [s for s in valid_sents if len(s)>0 and s[0] != '=']\n",
    "\n",
    "uni_valid_sents = pad_sents(valid_sents, 1)\n",
    "bi_valid_sents = pad_sents(valid_sents, 2)\n",
    "tri_valid_sents = pad_sents(valid_sents, 3)"
   ]
  },
  {
   "cell_type": "markdown",
   "metadata": {},
   "source": [
    "### Smoothing the parameters\n",
    "Note, it is likely that many parameters of bigram and trigram models will be 0 because the relevant bigrams and trigrams involved do not appear in the corpus. If you don't have a way to handle these 0 probabilities, all the sentences that include such bigrams or trigrams will have probabilities of 0.\n",
    "\n",
    "We'll use a Add-k Smoothing method to fix this problem, the smoothed parameter can be estimated as:\n",
    "\\begin{equation}\n",
    "p_{add-k}(u)= \\frac{count(u)+k}{c+k|V^*|}\n",
    "\\end{equation}\n",
    "\\begin{equation}\n",
    "p_{add-k}(u \\mid v)= \\frac{count(v, u)+k}{count(v)+k|V^*|}\n",
    "\\end{equation}\n",
    "\\begin{equation}\n",
    "p_{add-k}(u \\mid w, v)= \\frac{count(w, v, u)+k}{count(w, v)+k|V^*|}\n",
    "\\end{equation}\n",
    "\n",
    "where $k \\in (0, 1)$ is the parameter of this approach, and $|V^*|$ is the size of the vocabulary $V^*$,here $V^*= V \\cup STOP$. One way to choose the value of $k$ is by\n",
    "optimizing the perplexity of the development set, namely to choose the value that minimizes the perplexity.\n"
   ]
  },
  {
   "cell_type": "code",
   "execution_count": 130,
   "metadata": {},
   "outputs": [],
   "source": [
    "def smooth_ngram_prob(ngram, k, num_words, unigram_dic, bigram_dic, trigram_dic):\n",
    "    '''\n",
    "    params:\n",
    "        ngram: list[str] --- a list that represents n-gram\n",
    "        k: float \n",
    "        num_words: int --- total number of words\n",
    "        unigram_dic: dict{ngram: counts} --- a dictionary that maps each 1-gram to its number of occurences in \"sents\";\n",
    "        bigram_dic: dict{ngram: counts} --- a dictionary that maps each 2-gram to its number of occurence in \"sents\";\n",
    "        trigram_dic: dict{ngram: counts} --- a dictionary that maps each 3-gram to its number occurence in \"sents\";\n",
    "    return:\n",
    "        s_prob: float --- probability of the \"ngram\"\n",
    "    '''\n",
    "    s_prob = 0\n",
    "    V = len(unigram_dic) + 1 \n",
    "    ### YOUR CODE HERE\\、\n",
    "    if len(ngram) == 1:\n",
    "        s_prob = (unigram_dic[tuple(ngram)]+k)/(num_words+k*V) if tuple(ngram) in unigram_dic else k/(num_words+k*V)\n",
    "    elif len(ngram) == 2:\n",
    "        SUM = sum([bigram_dic[bigram] for bigram in bigram_dic if bigram[0] == ngram[0]])\n",
    "        s_prob = (bigram_dic[tuple(ngram)]+k)/(SUM+k*V) if tuple(ngram) in bigram_dic else k/(SUM+k*V)\n",
    "    elif len(ngram) == 3:\n",
    "        SUM = sum([trigram_dic[trigram] for trigram in trigram_dic if tuple(trigram[:2]) == tuple(ngram[:2])])\n",
    "        s_prob = (trigram_dic[tuple(ngram)]+k)/(SUM+k*V) if tuple(ngram) in trigram_dic else k/(SUM+k*V)\n",
    "    ### END OF YOUR CODE\n",
    "    return s_prob"
   ]
  },
  {
   "cell_type": "code",
   "execution_count": 137,
   "metadata": {},
   "outputs": [],
   "source": [
    "def smooth_ngram_prob_fast(ngram, k, num_words, unigram_dic, bigram_dic, trigram_dic, unigram_dic_ref, bigram_dic_ref):\n",
    "    '''\n",
    "    params:\n",
    "        ngram: list[str] --- a list that represents n-gram\n",
    "        k: float \n",
    "        num_words: int --- total number of words\n",
    "        unigram_dic: dict{ngram: counts} --- a dictionary that maps each 1-gram to its number of occurences in \"sents\";\n",
    "        bigram_dic: dict{ngram: counts} --- a dictionary that maps each 2-gram to its number of occurence in \"sents\";\n",
    "        trigram_dic: dict{ngram: counts} --- a dictionary that maps each 3-gram to its number occurence in \"sents\";\n",
    "    return:\n",
    "        s_prob: float --- probability of the \"ngram\"\n",
    "    '''\n",
    "    s_prob = 0\n",
    "    V = len(unigram_dic) + 1 \n",
    "    ### YOUR CODE HERE\\、\n",
    "    if len(ngram) == 1:\n",
    "        s_prob = (unigram_dic[tuple(ngram)]+k)/(num_words+k*V) if tuple(ngram) in unigram_dic else k/(num_words+k*V)\n",
    "    elif len(ngram) == 2:\n",
    "        SUM = unigram_dic_ref[tuple(ngram[:1])] if tuple(ngram[:1]) in unigram_dic_ref else 0\n",
    "        s_prob = (bigram_dic[tuple(ngram)]+k)/(SUM+k*V) if tuple(ngram) in bigram_dic else k/(SUM+k*V)\n",
    "    elif len(ngram) == 3:\n",
    "        SUM = bigram_dic_ref[tuple(ngram[:2])] if tuple(ngram[:2]) in bigram_dic_ref else 0\n",
    "        s_prob = (trigram_dic[tuple(ngram)]+k)/(SUM+k*V) if tuple(ngram) in trigram_dic else k/(SUM+k*V)\n",
    "    ### END OF YOUR CODE\n",
    "    return s_prob"
   ]
  },
  {
   "cell_type": "code",
   "execution_count": 138,
   "metadata": {},
   "outputs": [],
   "source": [
    "_, unigram_dic_ref = compute_ngram(bi_sents, 1)\n",
    "_, bigram_dic_ref = compute_ngram(tri_sents, 2)"
   ]
  },
  {
   "cell_type": "code",
   "execution_count": 141,
   "metadata": {},
   "outputs": [
    {
     "data": {
      "text/plain": [
       "9.311982452086402e-05"
      ]
     },
     "execution_count": 141,
     "metadata": {},
     "output_type": "execute_result"
    }
   ],
   "source": [
    "smooth_ngram_prob_fast(ngrams[0], 0.5, num_words, unigram_dict, bigram_dict, trigram_dict, unigram_dic_ref, bigram_dic_ref)"
   ]
  },
  {
   "cell_type": "code",
   "execution_count": 131,
   "metadata": {},
   "outputs": [
    {
     "data": {
      "text/plain": [
       "9.311982452086402e-05"
      ]
     },
     "execution_count": 131,
     "metadata": {},
     "output_type": "execute_result"
    }
   ],
   "source": [
    "### ~ 9.31e-05\n",
    "smooth_ngram_prob(ngrams[0], 0.5, num_words, unigram_dict, bigram_dict, trigram_dict)"
   ]
  },
  {
   "cell_type": "markdown",
   "metadata": {},
   "source": [
    "### Perplexity\n",
    "\n",
    "Given a test set $D^{\\prime}$ consisting of sentences $X^{(1)}, X^{(2)}, …, X^{(|D^{\\prime}|)}$, each sentence $X^{(j)}$ consists of words $x_1^{(j)}, x_2^{(j)},…,x_{n_j}^{(j)}$, we can measure the probability of each sentence $s_i$, and the quality of the language model would be the probability it assigns to the entire set of test sentences, namely:\n",
    "\\begin{equation} \n",
    "\\prod_j^{D^{\\prime}}p(X^{(j)})\n",
    "\\end{equation}\n",
    "Let's define average log2 probability as:\n",
    "\\begin{equation} \n",
    "l=\\frac{1}{c^{\\prime}}\\sum_{j=1}^{|D^{\\prime}|}log_2p(X^{(j)})\n",
    "\\end{equation}\n",
    "$c^{\\prime}$ is the total number of words in the test set, $D^{\\prime}$ is the number of sentences. And the perplexity is defined as:\n",
    "\\begin{equation} \n",
    "perplexity=2^{-l}\n",
    "\\end{equation}\n",
    "\n",
    "The lower the perplexity, the better the language model."
   ]
  },
  {
   "cell_type": "code",
   "execution_count": 132,
   "metadata": {},
   "outputs": [],
   "source": [
    "def perplexity(n, k, num_words, valid_sents, unigram_dic, bigram_dic, trigram_dic):\n",
    "    '''\n",
    "    compute the perplexity of valid_sents\n",
    "    params:\n",
    "        n: int --- n-gram model you choose. \n",
    "        k: float --- smoothing parameter.\n",
    "        num_words: int --- total number of words in the traning set.\n",
    "        valid_sents: list[list[str]] --- list of sentences.\n",
    "        unigram_dic: dict{ngram: counts} --- a dictionary that maps each 1-gram to its number of occurences in \"sents\";\n",
    "        bigram_dic: dict{ngram: counts} --- a dictionary that maps each 2-gram to its number of occurence in \"sents\";\n",
    "        trigram_dic: dict{ngram: counts} --- a dictionary that maps each 3-gram to its number occurence in \"sents\";\n",
    "    return:\n",
    "        ppl: float --- perplexity of valid_sents\n",
    "    '''\n",
    "    ppl = None\n",
    "    ### YOUR CODE HERE\n",
    "    SUM = 0\n",
    "    for sent in valid_sents:\n",
    "        for i in range(len(sent)-n+1):\n",
    "            ngram = sent[i:i+n]\n",
    "            SUM += np.log2(smooth_ngram_prob(ngram, k, num_words, unigram_dic, bigram_dic, trigram_dic))\n",
    "    ppl = np.power(2, -SUM/(np.sum([len(sent) for sent in valid_sents] if n == 1 \n",
    "                                   else [len(sent)-n for sent in valid_sents])))\n",
    "    ### END OF YOUR CODE\n",
    "    return ppl"
   ]
  },
  {
   "cell_type": "code",
   "execution_count": 142,
   "metadata": {},
   "outputs": [],
   "source": [
    "def perplexity_fast(n, k, num_words, valid_sents, unigram_dic, bigram_dic, trigram_dic, unigram_dic_ref, bigram_dic_ref):\n",
    "    '''\n",
    "    compute the perplexity of valid_sents\n",
    "    params:\n",
    "        n: int --- n-gram model you choose. \n",
    "        k: float --- smoothing parameter.\n",
    "        num_words: int --- total number of words in the traning set.\n",
    "        valid_sents: list[list[str]] --- list of sentences.\n",
    "        unigram_dic: dict{ngram: counts} --- a dictionary that maps each 1-gram to its number of occurences in \"sents\";\n",
    "        bigram_dic: dict{ngram: counts} --- a dictionary that maps each 2-gram to its number of occurence in \"sents\";\n",
    "        trigram_dic: dict{ngram: counts} --- a dictionary that maps each 3-gram to its number occurence in \"sents\";\n",
    "    return:\n",
    "        ppl: float --- perplexity of valid_sents\n",
    "    '''\n",
    "    ppl = None\n",
    "    ### YOUR CODE HERE\n",
    "    SUM = 0\n",
    "    for sent in valid_sents:\n",
    "        for i in range(len(sent)-n+1):\n",
    "            ngram = sent[i:i+n]\n",
    "            SUM += np.log2(smooth_ngram_prob_fast(ngram, k, num_words, unigram_dic, bigram_dic, trigram_dic, unigram_dic_ref, bigram_dic_ref))\n",
    "    ppl = np.power(2, -SUM/(np.sum([len(sent) for sent in valid_sents] if n == 1 \n",
    "                                   else [len(sent)-n for sent in valid_sents])))\n",
    "    ### END OF YOUR CODE\n",
    "    return ppl"
   ]
  },
  {
   "cell_type": "code",
   "execution_count": 133,
   "metadata": {},
   "outputs": [
    {
     "data": {
      "text/plain": [
       "840.7347306217125"
      ]
     },
     "execution_count": 133,
     "metadata": {},
     "output_type": "execute_result"
    }
   ],
   "source": [
    "### ~ 840\n",
    "perplexity(1, 0.1, num_words, uni_valid_sents, unigram_dict, bigram_dict, trigram_dict)"
   ]
  },
  {
   "cell_type": "code",
   "execution_count": 143,
   "metadata": {},
   "outputs": [
    {
     "data": {
      "text/plain": [
       "840.7347306217125"
      ]
     },
     "execution_count": 143,
     "metadata": {},
     "output_type": "execute_result"
    }
   ],
   "source": [
    "perplexity_fast(1, 0.1, num_words, uni_valid_sents, unigram_dict, bigram_dict, trigram_dict, unigram_dic_ref, bigram_dic_ref)"
   ]
  },
  {
   "cell_type": "code",
   "execution_count": 128,
   "metadata": {},
   "outputs": [
    {
     "data": {
      "text/plain": [
       "('.', '<STOP>', '<START>', '<STOP>', '<START>', '<START>')"
      ]
     },
     "execution_count": 128,
     "metadata": {},
     "output_type": "execute_result"
    }
   ],
   "source": [
    "uni_valid_sents[0][-1], bi_valid_sents[0][-1], bi_valid_sents[0][0], tri_valid_sents[0][-1], tri_valid_sents[0][0], \\\n",
    "tri_valid_sents[0][1]"
   ]
  },
  {
   "cell_type": "markdown",
   "metadata": {},
   "source": [
    "#### The original perplexity function is too slow for n=2 and n=3"
   ]
  },
  {
   "cell_type": "code",
   "execution_count": 185,
   "metadata": {},
   "outputs": [
    {
     "name": "stdout",
     "output_type": "stream",
     "text": [
      "(1, 0.1) is done\n",
      "(1, 0.3) is done\n",
      "(1, 0.5) is done\n",
      "(1, 0.7) is done\n",
      "(1, 0.9) is done\n",
      "(2, 0.1) is done\n",
      "(2, 0.3) is done\n",
      "(2, 0.5) is done\n",
      "(2, 0.7) is done\n",
      "(2, 0.9) is done\n",
      "(3, 0.1) is done\n",
      "(3, 0.3) is done\n",
      "(3, 0.5) is done\n",
      "(3, 0.7) is done\n",
      "(3, 0.9) is done\n"
     ]
    },
    {
     "data": {
      "text/plain": [
       "{(1, 0.1): 840.7347306217125,\n",
       " (1, 0.3): 841.1427277044075,\n",
       " (1, 0.5): 841.5959678936326,\n",
       " (1, 0.7): 842.0904494786319,\n",
       " (1, 0.9): 842.6227084935349,\n",
       " (2, 0.1): 888.5413716843532,\n",
       " (2, 0.3): 1279.9314612281546,\n",
       " (2, 0.5): 1558.3253262946232,\n",
       " (2, 0.7): 1788.7398501180635,\n",
       " (2, 0.9): 1990.4960086390406,\n",
       " (3, 0.1): 6400.3643275228305,\n",
       " (3, 0.3): 8953.583675178434,\n",
       " (3, 0.5): 10503.03434155729,\n",
       " (3, 0.7): 11646.964069362453,\n",
       " (3, 0.9): 12559.23934272117}"
      ]
     },
     "execution_count": 185,
     "metadata": {},
     "output_type": "execute_result"
    }
   ],
   "source": [
    "n = [1,2,3]\n",
    "k = [0.1, 0.3, 0.5, 0.7, 0.9]\n",
    "### YOUR CODE HERE\n",
    "dic = dict()\n",
    "for n_candidate in n:\n",
    "    for k_candidate in k:\n",
    "        dic[(n_candidate, k_candidate)] = \\\n",
    "        perplexity_fast(n_candidate, k_candidate, num_words, uni_valid_sents, unigram_dict, bigram_dict, trigram_dict, unigram_dic_ref, bigram_dic_ref)\n",
    "        print('({}, {}) is done'.format(n_candidate, k_candidate))\n",
    "{k: v for k, v in sorted(dic.items(), key=lambda item: item[1], reverse=False)}\n",
    "### END OF YOUR CODE"
   ]
  },
  {
   "cell_type": "markdown",
   "metadata": {
    "colab_type": "text",
    "id": "3o_yjh9lCdXg"
   },
   "source": [
    "### Question 4 [code]\n",
    "\n",
    "Evaluate the perplexity of the test data **test_sents** based on the best n-gram model and $k$ you have found on the validation data (Q 3.3)."
   ]
  },
  {
   "cell_type": "code",
   "execution_count": 146,
   "metadata": {
    "colab": {},
    "colab_type": "code",
    "id": "i7hGcXgCCdXg"
   },
   "outputs": [],
   "source": [
    "with open('data/wikitext-2/wiki.test.tokens', 'r', encoding='utf8') as f:\n",
    "    text = f.readlines()\n",
    "    test_sents = [line.lower().strip('\\n').split() for line in text]\n",
    "    test_sents = [s for s in test_sents if len(s)>0 and s[0] != '=']\n",
    "\n",
    "uni_test_sents = pad_sents(test_sents, 1)\n",
    "bi_test_sents = pad_sents(test_sents, 2)\n",
    "tri_test_sents = pad_sents(test_sents, 3)"
   ]
  },
  {
   "cell_type": "code",
   "execution_count": 186,
   "metadata": {},
   "outputs": [
    {
     "data": {
      "text/plain": [
       "968.3303647875488"
      ]
     },
     "execution_count": 186,
     "metadata": {},
     "output_type": "execute_result"
    }
   ],
   "source": [
    "### YOUR CODE HERE\n",
    "perplexity_fast(1, 0.1, num_words,bi_test_sents, unigram_dict, bigram_dict, trigram_dict, unigram_dic_ref, bigram_dic_ref)\n",
    "### END OF YOUR CODE"
   ]
  },
  {
   "cell_type": "markdown",
   "metadata": {
    "colab_type": "text",
    "collapsed": true,
    "id": "ePSI8RDWCdXj"
   },
   "source": [
    "## Neural Language Model (RNN)\n"
   ]
  },
  {
   "cell_type": "markdown",
   "metadata": {
    "colab_type": "text",
    "id": "jkoTco_jCdXj"
   },
   "source": [
    "<img src=\"LM.png\" alt=\"drawing\" style=\"width:500px;\"/>\n",
    "\n",
    "We will create a LSTM language model as shown in figure and train it on the Wikitext-2 dataset. \n",
    "The data generators (train\\_iter, valid\\_iter, test\\_iter) have been provided. \n",
    "The word embeddings together with the parameters in the LSTM model will be learned from scratch.\n",
    "\n",
    "[Pytorch](https://pytorch.org/tutorials/) and [torchtext](https://torchtext.readthedocs.io/en/latest/index.html#) are required in this part. Do not make any changes to the provided code unless you are requested to do so. "
   ]
  },
  {
   "cell_type": "markdown",
   "metadata": {},
   "source": [
    "### Question 5 [code]\n",
    "- Implement the ``__init__`` function in ``LangModel`` class.\n",
    "- Implement the ``forward`` function in ``LangModel`` class.\n",
    "- Complete the training code in ``train`` function.\n",
    "    Then complete the testing code in  ``test`` function and \n",
    "    compute the perplexity of the test data ``test_iter``. The test perplexity should be below 150."
   ]
  },
  {
   "cell_type": "code",
   "execution_count": 152,
   "metadata": {
    "colab": {},
    "colab_type": "code",
    "id": "tF2GCRdFCdXk",
    "outputId": "7e2ee790-c23f-48dd-e4a2-763293db1880"
   },
   "outputs": [
    {
     "name": "stderr",
     "output_type": "stream",
     "text": [
      "[nltk_data] Downloading package punkt to /Users/wutianyu/nltk_data...\n",
      "[nltk_data]   Package punkt is already up-to-date!\n"
     ]
    },
    {
     "data": {
      "text/plain": [
       "<torch._C.Generator at 0x12bbe54f0>"
      ]
     },
     "execution_count": 152,
     "metadata": {},
     "output_type": "execute_result"
    }
   ],
   "source": [
    "import torchtext\n",
    "import torch\n",
    "import torch.nn.functional as F\n",
    "from torchtext.datasets import WikiText2\n",
    "from torch import nn, optim\n",
    "from torchtext import data\n",
    "from nltk import word_tokenize\n",
    "import nltk\n",
    "nltk.download('punkt')\n",
    "torch.manual_seed(222)"
   ]
  },
  {
   "cell_type": "code",
   "execution_count": 154,
   "metadata": {
    "colab": {},
    "colab_type": "code",
    "id": "lt6JBdSnCdXn",
    "outputId": "7d11709e-1821-473e-aece-5add82208067"
   },
   "outputs": [
    {
     "name": "stdout",
     "output_type": "stream",
     "text": [
      "downloading wikitext-2-v1.zip\n"
     ]
    },
    {
     "name": "stderr",
     "output_type": "stream",
     "text": [
      "wikitext-2-v1.zip: 100%|██████████| 4.48M/4.48M [00:08<00:00, 524kB/s] \n"
     ]
    },
    {
     "name": "stdout",
     "output_type": "stream",
     "text": [
      "extracting\n"
     ]
    }
   ],
   "source": [
    "def tokenizer(text):\n",
    "    '''Tokenize a string to words'''\n",
    "    return word_tokenize(text)\n",
    "\n",
    "START = '<START>'\n",
    "STOP = '<STOP>'\n",
    "#Load and split data into three parts\n",
    "TEXT = data.Field(lower=True, tokenize=tokenizer, init_token=START, eos_token=STOP)\n",
    "train, valid, test = WikiText2.splits(TEXT) "
   ]
  },
  {
   "cell_type": "code",
   "execution_count": 155,
   "metadata": {
    "colab": {},
    "colab_type": "code",
    "id": "KHwu4VMVCdXq",
    "outputId": "4fb02a02-8f07-4239-b1f0-45234cda2b2d"
   },
   "outputs": [
    {
     "name": "stdout",
     "output_type": "stream",
     "text": [
      "Vocabulary size: 28905\n"
     ]
    }
   ],
   "source": [
    "#Build a vocabulary from the train dataset\n",
    "TEXT.build_vocab(train)\n",
    "print('Vocabulary size:', len(TEXT.vocab))"
   ]
  },
  {
   "cell_type": "code",
   "execution_count": 156,
   "metadata": {
    "colab": {},
    "colab_type": "code",
    "id": "ua9e-OBMCdXs"
   },
   "outputs": [],
   "source": [
    "BATCH_SIZE = 64\n",
    "# the length of a piece of text feeding to the RNN layer\n",
    "BPTT_LEN = 32           \n",
    "# train, validation, test data\n",
    "train_iter, valid_iter, test_iter = data.BPTTIterator.splits((train, valid, test),\n",
    "                                                                batch_size=BATCH_SIZE,\n",
    "                                                                bptt_len=BPTT_LEN,\n",
    "                                                                repeat=False)"
   ]
  },
  {
   "cell_type": "code",
   "execution_count": 157,
   "metadata": {
    "colab": {},
    "colab_type": "code",
    "id": "6_Cd8shXCdXy",
    "scrolled": true
   },
   "outputs": [
    {
     "name": "stdout",
     "output_type": "stream",
     "text": [
      "Size of text tensor torch.Size([32, 64])\n",
      "Size of target tensor torch.Size([32, 64])\n"
     ]
    }
   ],
   "source": [
    "#Generate a batch of train data\n",
    "batch = next(iter(train_iter))\n",
    "text, target = batch.text, batch.target\n",
    "# print(batch.dataset[0].text[:32])\n",
    "# print(text[0:3],target[:3])\n",
    "print('Size of text tensor',text.size())\n",
    "print('Size of target tensor',target.size())"
   ]
  },
  {
   "cell_type": "code",
   "execution_count": 158,
   "metadata": {},
   "outputs": [
    {
     "name": "stdout",
     "output_type": "stream",
     "text": [
      "tensor([[   15,    14,     9,  ...,  1679,  1998,   193],\n",
      "        [   17,   790,     6,  ...,  3700,     7,  1720],\n",
      "        [ 3879,  3320,   502,  ...,    66,     4,     7],\n",
      "        ...,\n",
      "        [   28,     6,    25,  ...,     5,     4,  4680],\n",
      "        [    5,    50,    34,  ..., 16002, 16450,  3293],\n",
      "        [ 1845,  1874,   123,  ...,  7971,  1307,   133]])\n",
      "tensor([[   17,   790,     6,  ...,  3700,     7,  1720],\n",
      "        [ 3879,  3320,   502,  ...,    66,     4,     7],\n",
      "        [ 3899,   135,  2624,  ...,     4,  1696, 14518],\n",
      "        ...,\n",
      "        [    5,    50,    34,  ..., 16002, 16450,  3293],\n",
      "        [ 1845,  1874,   123,  ...,  7971,  1307,   133],\n",
      "        [ 1026,  8556,    13,  ...,    16,    13,    22]])\n"
     ]
    }
   ],
   "source": [
    "print(text)\n",
    "print(target)"
   ]
  },
  {
   "cell_type": "code",
   "execution_count": 241,
   "metadata": {},
   "outputs": [],
   "source": [
    "class LangModel(nn.Module):\n",
    "    def __init__(self, lang_config):\n",
    "        super(LangModel, self).__init__()\n",
    "        self.vocab_size = lang_config['vocab_size']\n",
    "        self.emb_size = lang_config['emb_size']\n",
    "        self.hidden_size = lang_config['hidden_size']\n",
    "        self.num_layer = lang_config['num_layer']\n",
    "        \n",
    "        self.embedding = None\n",
    "        self.rnn = None\n",
    "        self.linear = None\n",
    "        \n",
    "        ### TODO: \n",
    "        ###    1. Initialize 'self.embedding' with nn.Embedding function and 2 variables we have initialized for you\n",
    "        ###    2. Initialize 'self.rnn' with nn.LSTM function and 3 variables we have initialized for you\n",
    "        ###    3. Initialize 'self.linear' with nn.Linear function and 2 variables we have initialized for you\n",
    "        ### Reference:\n",
    "        ###        https://pytorch.org/docs/stable/nn.html\n",
    "        \n",
    "        ### YOUR CODE HERE (3 lines)\n",
    "        self.embedding = nn.Embedding(num_embeddings=self.vocab_size, embedding_dim=self.emb_size)\n",
    "        self.rnn = nn.LSTM(input_size=self.emb_size, hidden_size=self.hidden_size, num_layers=self.num_layer, batch_first=False)\n",
    "        self.linear = nn.Linear(self.hidden_size, self.vocab_size)\n",
    "        ### END OF YOUR CODE\n",
    "        \n",
    "    def forward(self, batch_sents, hidden=None):\n",
    "        '''\n",
    "        params:\n",
    "            batch_sents: torch.LongTensor of shape (sequence_len, batch_size)\n",
    "        return:\n",
    "            normalized_score: torch.FloatTensor of shape (sequence_len, batch_size, vocab_size)\n",
    "        '''\n",
    "        normalized_score = None\n",
    "        hidden = hidden\n",
    "        ### TODO:\n",
    "        ###      1. Feed the batch_sents to self.embedding  \n",
    "        ###      2. Feed the embeddings to self.rnn. Remember to pass \"hidden\" into self.rnn, even if it is None. But we will \n",
    "        ###         use \"hidden\" when implementing greedy search.\n",
    "        ###      3. Apply linear transformation to the output of self.rnn\n",
    "        ###      4. Apply 'F.log_softmax' to the output of linear transformation\n",
    "        ###\n",
    "        ### YOUR CODE HERE\n",
    "        batch_sents = self.embedding(batch_sents)\n",
    "        LSTM_output, hidden = self.rnn(batch_sents, hidden) \n",
    "        # output is of shape (seq_len, batch, num_directions * hidden_size)\n",
    "        raw_output = self.linear(LSTM_output)\n",
    "        normalized_score = F.log_softmax(raw_output, dim=-1)\n",
    "        # normalized_Score is of shape (seq_len, batch, vocab_size)\n",
    "        ### END OF YOUR CODE\n",
    "        return normalized_score, hidden"
   ]
  },
  {
   "cell_type": "code",
   "execution_count": 242,
   "metadata": {},
   "outputs": [],
   "source": [
    "def train(model, train_iter, valid_iter, vocab_size, criterion, optimizer, num_epochs):\n",
    "    for n in range(num_epochs):\n",
    "        train_loss = 0\n",
    "        target_num = 0\n",
    "        model.train()\n",
    "        for batch in train_iter:\n",
    "            \n",
    "            text, targets = batch.text.to(device), batch.target.to(device)\n",
    "            # target is of shape (seq_len, batch)\n",
    "            loss = None\n",
    "            \n",
    "            ### we don't consider \"hidden\" here. So according to the default setting, \"hidden\" will be None\n",
    "            ### YOU CODE HERE (~5 lines)\n",
    "#             normalized_score = model(text)\n",
    "#             loss_tensor = torch.gather(normalized_score, 2, targets.unsqueeze(2)).squeeze(2)\n",
    "#             # loss_tensor is of shape (seq_len, batch)\n",
    "#             loss = loss_tensor.mean()\n",
    "            optimizer.zero_grad()\n",
    "            output, hidden = model(text)\n",
    "#             print(output.shape)\n",
    "#             print(targets.shape)\n",
    "            loss = criterion(output.view(-1, output.shape[2]), targets.view(-1))\n",
    "            loss.backward()\n",
    "            optimizer.step()\n",
    "            ### END OF YOUR CODE\n",
    "            ##########################################\n",
    "            train_loss += loss.item() * targets.size(0) * targets.size(1)\n",
    "            target_num += targets.size(0) * targets.size(1)\n",
    "\n",
    "        train_loss /= target_num\n",
    "\n",
    "        # monitor the loss of all the predictions\n",
    "        val_loss = 0\n",
    "        target_num = 0\n",
    "        model.eval()\n",
    "        for batch in valid_iter:\n",
    "            text, targets = batch.text.to(device), batch.target.to(device)\n",
    "            \n",
    "            prediction,_ = model(text)\n",
    "            loss = criterion(prediction.view(-1, vocab_size), targets.view(-1))\n",
    "            \n",
    "            val_loss += loss.item() * targets.size(0) * targets.size(1)\n",
    "            target_num += targets.size(0) * targets.size(1)\n",
    "        val_loss /= target_num\n",
    "\n",
    "        print('Epoch: {}, Training Loss: {:.4f}, Validation Loss: {:.4f}'.format(n+1, train_loss, val_loss))            "
   ]
  },
  {
   "cell_type": "code",
   "execution_count": 243,
   "metadata": {},
   "outputs": [],
   "source": [
    "def test(model, vocab_size, criterion, test_iter):\n",
    "    '''\n",
    "    params: \n",
    "        model: LSTM model\n",
    "        test_iter: test data\n",
    "    return:\n",
    "        ppl: perplexity \n",
    "    '''\n",
    "    ppl = None\n",
    "    test_loss = 0\n",
    "    target_num = 0\n",
    "    with torch.no_grad():\n",
    "        for batch in test_iter:\n",
    "            text, targets = batch.text.to(device), batch.target.to(device)\n",
    "\n",
    "            prediction,_ = model(text)\n",
    "            loss = criterion(prediction.view(-1, vocab_size), targets.view(-1))\n",
    "\n",
    "            test_loss += loss.item() * targets.size(0) * targets.size(1)\n",
    "            target_num += targets.size(0) * targets.size(1)\n",
    "\n",
    "        test_loss /= target_num\n",
    "        \n",
    "        ### Compute perplexity according to \"test_loss\"\n",
    "        ### Hint: Consider how the loss is computed.\n",
    "        ### YOUR CODE HERE(1 line)\n",
    "        ppl = np.exp(test_loss)\n",
    "        ### END OF YOUR CODE\n",
    "        return ppl"
   ]
  },
  {
   "cell_type": "code",
   "execution_count": 244,
   "metadata": {},
   "outputs": [],
   "source": [
    "num_epochs=1\n",
    "device = torch.device(\"cuda\" if torch.cuda.is_available() else \"cpu\")\n",
    "vocab_size = len(TEXT.vocab)\n",
    "\n",
    "config = {'vocab_size':vocab_size,\n",
    "         'emb_size':128,\n",
    "         'hidden_size':128,\n",
    "         'num_layer':1}\n",
    "\n",
    "LM = LangModel(config)\n",
    "LM = LM.to(device)\n",
    "\n",
    "criterion = nn.NLLLoss(reduction='mean')\n",
    "optimizer = optim.Adam(LM.parameters(), lr=1e-3, betas=(0.7, 0.99))"
   ]
  },
  {
   "cell_type": "code",
   "execution_count": 245,
   "metadata": {},
   "outputs": [
    {
     "name": "stdout",
     "output_type": "stream",
     "text": [
      "Epoch: 1, Training Loss: 6.0765, Validation Loss: 5.1898\n"
     ]
    }
   ],
   "source": [
    "train(LM, train_iter, valid_iter, vocab_size, criterion, optimizer, num_epochs)"
   ]
  },
  {
   "cell_type": "code",
   "execution_count": 246,
   "metadata": {},
   "outputs": [
    {
     "data": {
      "text/plain": [
       "156.07838789896783"
      ]
     },
     "execution_count": 246,
     "metadata": {},
     "output_type": "execute_result"
    }
   ],
   "source": [
    "# < 150\n",
    "test(LM, vocab_size, criterion, test_iter)"
   ]
  },
  {
   "cell_type": "markdown",
   "metadata": {},
   "source": [
    "### Question 6 [code]\n",
    "When we use trained language model to generate a sentence given a start token, we can choose either ``greedy search`` or ``beam search``. \n",
    "<img src=\"greedy.png\" alt=\"drawing\" style=\"width:500px;\"/>\n",
    "\n",
    "As shown above, ``greedy search`` algorithm will pick the token which has the highest probability and feed it to the language model as input in the next time step. The model will generate ``max_len`` number of tokens at most.\n",
    "\n",
    "- Implement ``word_greedy_search``\n",
    "- **[optional]** Implement ``word_beam_search`` "
   ]
  },
  {
   "cell_type": "code",
   "execution_count": 259,
   "metadata": {},
   "outputs": [],
   "source": [
    "def word_greedy_search(model, start_token, max_len):\n",
    "    '''\n",
    "    param:\n",
    "        model: nn.Module --- language model\n",
    "        start_token: str --- e.g. 'he'\n",
    "        max_len: int --- max number of tokens generated\n",
    "    return:\n",
    "        strings: list[str] --- list of tokens, e.g., ['he', 'was', 'a', 'member', 'of',...]\n",
    "    '''\n",
    "    model.eval()\n",
    "    ID = TEXT.vocab.stoi[start_token]\n",
    "    strings = [start_token]\n",
    "    hidden = None\n",
    "    \n",
    "    ### You may find TEXT.vocab.itos useful.\n",
    "    ### YOUR CODE HERE\n",
    "    word_to_idx = {word: i for i, word in enumerate(TEXT.vocab.itos)}\n",
    "    last_word = start_token\n",
    "    while last_word != '<eos>' and len(strings) < max_len:\n",
    "        normalized_score, hidden = model(torch.LongTensor([[word_to_idx[last_word]]]), hidden)\n",
    "        # normalized_score is of shape torch.Size([1, 1, 28905])\n",
    "        max_idx = torch.argmax(normalized_score, 2).item()\n",
    "        last_word = TEXT.vocab.itos[max_idx]\n",
    "        strings.append(last_word)\n",
    "    ### END OF YOUR CODE \n",
    "    return strings"
   ]
  },
  {
   "cell_type": "code",
   "execution_count": 270,
   "metadata": {},
   "outputs": [
    {
     "data": {
      "text/plain": [
       "['he', 'was', 'a', '<', 'unk']"
      ]
     },
     "execution_count": 270,
     "metadata": {},
     "output_type": "execute_result"
    }
   ],
   "source": [
    "word_greedy_search(LM, 'he', 64)[:5]"
   ]
  },
  {
   "cell_type": "code",
   "execution_count": 371,
   "metadata": {},
   "outputs": [],
   "source": [
    "# BeamNode = namedtuple('BeamNode', ['prev_node', 'prev_hidden', 'wordID', 'score', 'length'])\n",
    "# LMNode = namedtuple('LMNode', ['sent', 'score'])\n",
    "\n",
    "def word_beam_search(model, start_token, max_len, beam_size):\n",
    "    model.eval()\n",
    "    ID = TEXT.vocab.stoi[start_token]\n",
    "    strings = [start_token]\n",
    "    hidden = None\n",
    "    \n",
    "    ### You may find TEXT.vocab.itos useful.\n",
    "    ### YOUR CODE HERE\n",
    "    def calculate_score_next(model, sequence_words, beam_size, word_to_idx, words):\n",
    "        if not sequence_words:\n",
    "            return torch.Tensor([-float('inf')]*beam_size), torch.zeros((beam_size,), dtype=torch.long), [None]*beam_size\n",
    "        idx_tensor = torch.LongTensor([word_to_idx[word] for word in sequence_words]).unsqueeze(1)\n",
    "        hidden = None\n",
    "        # normalized_Score is of shape (seq_len, 1, vocab_size)\n",
    "        # idx_tensor is of shape (sequence_len, 1)\n",
    "        \n",
    "        normalized_score, hidden = model(idx_tensor, hidden)\n",
    "        base_score = torch.sum(normalized_score.squeeze(1).argmax(dim=-1)[:-1])\n",
    "        new_score, new_score_idx = torch.topk(normalized_score.squeeze(1)[-1,:], beam_size, dim=-1)\n",
    "        return base_score+new_score, new_score_idx, [sequence_words+[words[new_score_idx[i]]] for i in range(beam_size)]\n",
    "         # both of shape (beam_size, )\n",
    "    \n",
    "    word_to_idx = {word: i for i, word in enumerate(TEXT.vocab.itos)}\n",
    "#     print(calculate_score_next(model, ['he', 'is'], beam_size, word_to_idx, TEXT.vocab.itos))\n",
    "\n",
    "    def best_k(model, sequences_words, beam_size, word_to_idx, words):\n",
    "        new_scores, new_score_idxes, candidate_sequence = [], [], []\n",
    "        for i in range(beam_size):\n",
    "            new_score, new_score_idx, candidates = \\\n",
    "            calculate_score_next(model, sequences_words[i], beam_size, word_to_idx, words)\n",
    "            new_scores.append(new_score)\n",
    "            new_score_idxes.append(new_score_idx)\n",
    "            candidate_sequence.append(candidates)\n",
    "        new_scores = torch.stack(new_scores).view(-1)\n",
    "        new_score_idxes = torch.stack(new_score_idxes).view(-1)\n",
    "        _, best_idx = torch.topk(new_scores, beam_size, dim=-1)\n",
    "#         print(best_idx)                    \n",
    "        new_sequences = []\n",
    "        for idx in best_idx:\n",
    "            m = (idx.item())//beam_size\n",
    "            n = (idx.item())%beam_size\n",
    "#             print(m,n)\n",
    "#             print(candidate_sequence[m][n])\n",
    "            new_sequences.append(candidate_sequence[m][n])\n",
    "        return new_sequences\n",
    "       \n",
    "#     print(best_k(model, [['he', 'is'], ['she', 'is']], beam_size, word_to_idx, TEXT.vocab.itos))\n",
    "    \n",
    "    def check_stop(sequences_words):\n",
    "        for sequence_words in sequences_words:\n",
    "            if not sequence_words:\n",
    "                continue\n",
    "            if sequence_words[-1] == '<eos>':\n",
    "#                 print('detected')\n",
    "                return True\n",
    "        return False\n",
    "    \n",
    "    sequences_words = [strings] + [None]*(beam_size-1)\n",
    "    print(sequences_words)\n",
    "    i = 1\n",
    "    while not check_stop(sequences_words) and i < max_len:\n",
    "        sequences_words = best_k(model, sequences_words, beam_size, word_to_idx, TEXT.vocab.itos)\n",
    "#         print(i)\n",
    "        print(sequences_words)\n",
    "        i += 1\n",
    "    for sequence_words in sequences_words:\n",
    "        if sequence_words[-1] == '<eos>':\n",
    "            return sequence_words\n",
    "    return None\n",
    "    ### END OF YOUR CODE "
   ]
  },
  {
   "cell_type": "code",
   "execution_count": 372,
   "metadata": {
    "scrolled": false
   },
   "outputs": [
    {
     "name": "stdout",
     "output_type": "stream",
     "text": [
      "[['he'], None]\n",
      "[['he', 'was'], ['he', 'had']]\n",
      "[['he', 'had', 'been'], ['he', 'had', 'a']]\n",
      "[['he', 'had', 'been', 'a'], ['he', 'had', 'been', 'the']]\n",
      "[['he', 'had', 'been', 'a', '<'], ['he', 'had', 'been', 'the', '<']]\n",
      "[['he', 'had', 'been', 'the', '<', 'unk'], ['he', 'had', 'been', 'a', '<', 'unk']]\n",
      "[['he', 'had', 'been', 'a', '<', 'unk', '>'], ['he', 'had', 'been', 'the', '<', 'unk', '>']]\n",
      "[['he', 'had', 'been', 'the', '<', 'unk', '>', ','], ['he', 'had', 'been', 'the', '<', 'unk', '>', '.']]\n",
      "[['he', 'had', 'been', 'the', '<', 'unk', '>', '.', '<eos>'], ['he', 'had', 'been', 'the', '<', 'unk', '>', '.', 'the']]\n"
     ]
    },
    {
     "data": {
      "text/plain": [
       "['he', 'had', 'been', 'the', '<', 'unk', '>', '.', '<eos>']"
      ]
     },
     "execution_count": 372,
     "metadata": {},
     "output_type": "execute_result"
    }
   ],
   "source": [
    "word_beam_search(LM, 'he', 64, 2)"
   ]
  },
  {
   "cell_type": "code",
   "execution_count": 373,
   "metadata": {},
   "outputs": [
    {
     "name": "stdout",
     "output_type": "stream",
     "text": [
      "[['he'], None, None]\n",
      "[['he', 'was'], ['he', 'had'], ['he', 'is']]\n",
      "[['he', 'had', 'been'], ['he', 'is', 'a'], ['he', 'had', 'a']]\n",
      "[['he', 'had', 'been', 'a'], ['he', 'had', 'been', 'the'], ['he', 'had', 'a', '<']]\n",
      "[['he', 'had', 'been', 'a', '<'], ['he', 'had', 'been', 'the', '<'], ['he', 'had', 'been', 'a', '``']]\n",
      "[['he', 'had', 'been', 'the', '<', 'unk'], ['he', 'had', 'been', 'a', '<', 'unk'], ['he', 'had', 'been', 'a', '``', '<']]\n",
      "[['he', 'had', 'been', 'a', '<', 'unk', '>'], ['he', 'had', 'been', 'the', '<', 'unk', '>'], ['he', 'had', 'been', 'a', '``', '<', 'unk']]\n",
      "[['he', 'had', 'been', 'a', '``', '<', 'unk', '>'], ['he', 'had', 'been', 'the', '<', 'unk', '>', ','], ['he', 'had', 'been', 'the', '<', 'unk', '>', '.']]\n",
      "[['he', 'had', 'been', 'a', '``', '<', 'unk', '>', ','], ['he', 'had', 'been', 'a', '``', '<', 'unk', '>', '.'], ['he', 'had', 'been', 'a', '``', '<', 'unk', '>', '<']]\n",
      "[['he', 'had', 'been', 'a', '``', '<', 'unk', '>', '<', 'unk'], ['he', 'had', 'been', 'a', '``', '<', 'unk', '>', '.', '<eos>'], ['he', 'had', 'been', 'a', '``', '<', 'unk', '>', '.', 'the']]\n"
     ]
    },
    {
     "data": {
      "text/plain": [
       "['he', 'had', 'been', 'a', '``', '<', 'unk', '>', '.', '<eos>']"
      ]
     },
     "execution_count": 373,
     "metadata": {},
     "output_type": "execute_result"
    }
   ],
   "source": [
    "word_beam_search(LM, 'he', 64, 3)"
   ]
  },
  {
   "cell_type": "markdown",
   "metadata": {},
   "source": [
    "# char-level LM"
   ]
  },
  {
   "cell_type": "markdown",
   "metadata": {},
   "source": [
    "### Question 7 [code]\n",
    "- Implement ``char_tokenizer``\n",
    "- Implement ``CharLangModel``, ``char_train``, ``char_test``\n",
    "- Implement ``char_greedy_search``"
   ]
  },
  {
   "cell_type": "code",
   "execution_count": 208,
   "metadata": {},
   "outputs": [],
   "source": [
    "def char_tokenizer(string):\n",
    "    '''\n",
    "    param:\n",
    "        string: str --- e.g. \"I love this assignment\"\n",
    "    return:\n",
    "        char_list: list[str] --- e.g. ['I', 'l', 'o', 'v', 'e', ' ', 't', 'h', 'i', 's', ...]\n",
    "    '''\n",
    "    char_list = None\n",
    "    ### YOUR CODE HERE\n",
    "    char_list = list(string)\n",
    "    ### END OF YOUR CODE\n",
    "    return char_list"
   ]
  },
  {
   "cell_type": "code",
   "execution_count": 209,
   "metadata": {},
   "outputs": [
    {
     "data": {
      "text/plain": [
       "['t', 'e', 's', 't', ' ', 't', 'e', 's', 't', ' ', 't', 'e', 's', 't']"
      ]
     },
     "execution_count": 209,
     "metadata": {},
     "output_type": "execute_result"
    }
   ],
   "source": [
    "test_str = 'test test test'\n",
    "char_tokenizer(test_str)"
   ]
  },
  {
   "cell_type": "code",
   "execution_count": 210,
   "metadata": {},
   "outputs": [],
   "source": [
    "CHAR_TEXT = data.Field(lower=True, tokenize=char_tokenizer ,init_token='<START>', eos_token='<STOP>')\n",
    "ctrain, cvalid, ctest = WikiText2.splits(CHAR_TEXT)  "
   ]
  },
  {
   "cell_type": "code",
   "execution_count": 211,
   "metadata": {},
   "outputs": [
    {
     "name": "stdout",
     "output_type": "stream",
     "text": [
      "Vocabulary size: 247\n"
     ]
    }
   ],
   "source": [
    "CHAR_TEXT.build_vocab(ctrain)\n",
    "print('Vocabulary size:', len(CHAR_TEXT.vocab))"
   ]
  },
  {
   "cell_type": "code",
   "execution_count": 212,
   "metadata": {},
   "outputs": [],
   "source": [
    "BATCH_SIZE = 32\n",
    "# the length of a piece of text feeding to the RNN layer\n",
    "BPTT_LEN = 128        \n",
    "# train, validation, test data\n",
    "ctrain_iter, cvalid_iter, ctest_iter = data.BPTTIterator.splits((ctrain, cvalid, ctest),\n",
    "                                                                batch_size=BATCH_SIZE,\n",
    "                                                                bptt_len=BPTT_LEN,\n",
    "                                                                repeat=False)"
   ]
  },
  {
   "cell_type": "code",
   "execution_count": 240,
   "metadata": {},
   "outputs": [],
   "source": [
    "class CharLangModel(nn.Module):\n",
    "    def __init__(self, lang_config):\n",
    "        ### YOUR CODE HERE\n",
    "        super(CharLangModel, self).__init__()\n",
    "        self.vocab_size = lang_config['vocab_size']\n",
    "        self.emb_size = lang_config['emb_size']\n",
    "        self.hidden_size = lang_config['hidden_size']\n",
    "        self.num_layer = lang_config['num_layer']\n",
    "        \n",
    "        self.embedding = None\n",
    "        self.rnn = None\n",
    "        self.linear = None\n",
    "        \n",
    "        ### TODO: \n",
    "        ###    1. Initialize 'self.embedding' with nn.Embedding function and 2 variables we have initialized for you\n",
    "        ###    2. Initialize 'self.rnn' with nn.LSTM function and 3 variables we have initialized for you\n",
    "        ###    3. Initialize 'self.linear' with nn.Linear function and 2 variables we have initialized for you\n",
    "        ### Reference:\n",
    "        ###        https://pytorch.org/docs/stable/nn.html\n",
    "        \n",
    "        ### YOUR CODE HERE (3 lines)\n",
    "        self.embedding = nn.Embedding(num_embeddings=self.vocab_size, embedding_dim=self.emb_size)\n",
    "        self.rnn = nn.LSTM(input_size=self.emb_size, hidden_size=self.hidden_size, num_layers=self.num_layer, batch_first=False)\n",
    "        self.linear = nn.Linear(self.hidden_size, self.vocab_size)\n",
    "        ### END OF YOUR CODE\n",
    "        \n",
    "    def forward(self, batch_sents, hidden=None):\n",
    "        ### YOUR CODE HERE\n",
    "        normalized_score = None\n",
    "        hidden = hidden\n",
    "        ### TODO:\n",
    "        ###      1. Feed the batch_sents to self.embedding  \n",
    "        ###      2. Feed the embeddings to self.rnn. Remember to pass \"hidden\" into self.rnn, even if it is None. But we will \n",
    "        ###         use \"hidden\" when implementing greedy search.\n",
    "        ###      3. Apply linear transformation to the output of self.rnn\n",
    "        ###      4. Apply 'F.log_softmax' to the output of linear transformation\n",
    "        ###\n",
    "        ### YOUR CODE HERE\n",
    "        batch_sents = self.embedding(batch_sents)\n",
    "        LSTM_output, hidden = self.rnn(batch_sents, hidden) \n",
    "        # output is of shape (seq_len, batch, num_directions * hidden_size)\n",
    "        raw_output = self.linear(LSTM_output)\n",
    "        normalized_score = F.log_softmax(raw_output, dim=-1)\n",
    "        # normalized_Score is of shape (seq_len, batch, vocab_size)\n",
    "        ### END OF YOUR CODE\n",
    "        return normalized_score, hidden        "
   ]
  },
  {
   "cell_type": "code",
   "execution_count": 249,
   "metadata": {},
   "outputs": [],
   "source": [
    "def char_train(model, train_iter, valid_iter, criterion, optimizer, vocab_size, num_epochs):\n",
    "    ### YOUR CODE HERE\n",
    "    for n in range(num_epochs):\n",
    "        train_loss = 0\n",
    "        target_num = 0\n",
    "        model.train()\n",
    "        for batch in train_iter:\n",
    "            \n",
    "            text, targets = batch.text.to(device), batch.target.to(device)\n",
    "            # target is of shape (seq_len, batch)\n",
    "            loss = None\n",
    "            \n",
    "            ### we don't consider \"hidden\" here. So according to the default setting, \"hidden\" will be None\n",
    "            ### YOU CODE HERE (~5 lines)\n",
    "#             normalized_score = model(text)\n",
    "#             loss_tensor = torch.gather(normalized_score, 2, targets.unsqueeze(2)).squeeze(2)\n",
    "#             # loss_tensor is of shape (seq_len, batch)\n",
    "#             loss = loss_tensor.mean()\n",
    "            optimizer.zero_grad()\n",
    "            output, hidden = model(text)\n",
    "#             print(output.shape)\n",
    "#             print(targets.shape)\n",
    "            loss = criterion(output.view(-1, output.shape[2]), targets.view(-1))\n",
    "            loss.backward()\n",
    "            optimizer.step()\n",
    "            ### END OF YOUR CODE\n",
    "            ##########################################\n",
    "            train_loss += loss.item() * targets.size(0) * targets.size(1)\n",
    "            target_num += targets.size(0) * targets.size(1)\n",
    "\n",
    "        train_loss /= target_num\n",
    "\n",
    "        # monitor the loss of all the predictions\n",
    "        val_loss = 0\n",
    "        target_num = 0\n",
    "        model.eval()\n",
    "        for batch in valid_iter:\n",
    "            text, targets = batch.text.to(device), batch.target.to(device)\n",
    "            \n",
    "            prediction,_ = model(text)\n",
    "            loss = criterion(prediction.view(-1, vocab_size), targets.view(-1))\n",
    "            \n",
    "            val_loss += loss.item() * targets.size(0) * targets.size(1)\n",
    "            target_num += targets.size(0) * targets.size(1)\n",
    "        val_loss /= target_num\n",
    "\n",
    "        print('Epoch: {}, Training Loss: {:.4f}, Validation Loss: {:.4f}'.format(n+1, train_loss, val_loss))            "
   ]
  },
  {
   "cell_type": "code",
   "execution_count": 250,
   "metadata": {},
   "outputs": [],
   "source": [
    "def char_test(model, vocab_size, test_iter, criterion):\n",
    "    ### YOUR CODE HERE\n",
    "    ppl = None\n",
    "    test_loss = 0\n",
    "    target_num = 0\n",
    "    with torch.no_grad():\n",
    "        for batch in test_iter:\n",
    "            text, targets = batch.text.to(device), batch.target.to(device)\n",
    "\n",
    "            prediction,_ = model(text)\n",
    "            loss = criterion(prediction.view(-1, vocab_size), targets.view(-1))\n",
    "\n",
    "            test_loss += loss.item() * targets.size(0) * targets.size(1)\n",
    "            target_num += targets.size(0) * targets.size(1)\n",
    "\n",
    "        test_loss /= target_num\n",
    "        \n",
    "        ### Compute perplexity according to \"test_loss\"\n",
    "        ### Hint: Consider how the loss is computed.\n",
    "        ### YOUR CODE HERE(1 line)\n",
    "        ppl = np.exp(test_loss)\n",
    "        ### END OF YOUR CODE\n",
    "        return ppl"
   ]
  },
  {
   "cell_type": "code",
   "execution_count": 251,
   "metadata": {},
   "outputs": [],
   "source": [
    "num_epochs=1\n",
    "device = torch.device(\"cuda\" if torch.cuda.is_available() else \"cpu\")\n",
    "char_vocab_size = len(CHAR_TEXT.vocab)\n",
    "\n",
    "config = {'vocab_size':char_vocab_size,\n",
    "         'emb_size':128,\n",
    "         'hidden_size':128,\n",
    "         'num_layer':1}\n",
    "\n",
    "CLM = CharLangModel(config)\n",
    "CLM = CLM.to(device)\n",
    "\n",
    "char_criterion = nn.NLLLoss(reduction='mean')\n",
    "char_optimizer = optim.Adam(CLM.parameters(), lr=1e-3, betas=(0.7, 0.99))"
   ]
  },
  {
   "cell_type": "code",
   "execution_count": 252,
   "metadata": {},
   "outputs": [
    {
     "name": "stdout",
     "output_type": "stream",
     "text": [
      "Epoch: 1, Training Loss: 1.8335, Validation Loss: 1.5419\n"
     ]
    }
   ],
   "source": [
    "char_train(CLM, ctrain_iter, cvalid_iter, char_criterion, char_optimizer, char_vocab_size, num_epochs)"
   ]
  },
  {
   "cell_type": "code",
   "execution_count": 253,
   "metadata": {},
   "outputs": [
    {
     "data": {
      "text/plain": [
       "4.634222916818645"
      ]
     },
     "execution_count": 253,
     "metadata": {},
     "output_type": "execute_result"
    }
   ],
   "source": [
    "# <10\n",
    "char_test(CLM, char_vocab_size, ctest_iter, char_criterion)"
   ]
  },
  {
   "cell_type": "code",
   "execution_count": 265,
   "metadata": {},
   "outputs": [
    {
     "data": {
      "text/plain": [
       "['<unk>', '<pad>', '<START>', '<STOP>', ' ']"
      ]
     },
     "execution_count": 265,
     "metadata": {},
     "output_type": "execute_result"
    }
   ],
   "source": [
    "CHAR_TEXT.vocab.itos[:5]"
   ]
  },
  {
   "cell_type": "code",
   "execution_count": 262,
   "metadata": {},
   "outputs": [],
   "source": [
    "def char_greedy_search(model, start_token, max_len):\n",
    "    '''\n",
    "    param:\n",
    "        model: nn.Module --- language model\n",
    "        start_token: str --- e.g. 'h'\n",
    "        max_len: int --- max number of tokens generated\n",
    "    return:\n",
    "        strings: list[str] --- list of tokens, e.g., ['h', 'e', ' ', 'i', 's',...]\n",
    "    '''   \n",
    "    model.eval()\n",
    "    ID = CHAR_TEXT.vocab.stoi[start_token]\n",
    "    strings = [start_token]\n",
    "    hidden = None\n",
    "    \n",
    "    ### You may find CHAR_TEXT.vocab.itos useful.\n",
    "    ### YOUR CODE HERE\n",
    "    char_to_idx = {char: i for i, char in enumerate(CHAR_TEXT.vocab.itos)}\n",
    "    last_char = start_token\n",
    "    while last_char != '<STOP>' and len(strings) < max_len:\n",
    "        normalized_score, hidden = model(torch.LongTensor([[char_to_idx[last_char]]]), hidden)\n",
    "        # normalized_score is of shape torch.Size([1, 1, 28905])\n",
    "        max_idx = torch.argmax(normalized_score, 2).item()\n",
    "        last_char = CHAR_TEXT.vocab.itos[max_idx]\n",
    "        strings.append(last_char)\n",
    "    ### END OF YOUR CODE \n",
    "    return strings"
   ]
  },
  {
   "cell_type": "code",
   "execution_count": 263,
   "metadata": {},
   "outputs": [
    {
     "data": {
      "text/plain": [
       "['h',\n",
       " 'e',\n",
       " ' ',\n",
       " 's',\n",
       " 'e',\n",
       " 'a',\n",
       " 's',\n",
       " 'e',\n",
       " ' ',\n",
       " 'a',\n",
       " 'n',\n",
       " 'd',\n",
       " ' ',\n",
       " 't',\n",
       " 'h',\n",
       " 'e',\n",
       " ' ',\n",
       " 's',\n",
       " 'e',\n",
       " 'c',\n",
       " 't',\n",
       " 'i',\n",
       " 'o',\n",
       " 'n',\n",
       " ' ',\n",
       " ',',\n",
       " ' ',\n",
       " 'a',\n",
       " 'n',\n",
       " 'd',\n",
       " ' ',\n",
       " 't',\n",
       " 'h',\n",
       " 'e',\n",
       " ' ',\n",
       " 's',\n",
       " 'e',\n",
       " 'c',\n",
       " 't',\n",
       " 'i',\n",
       " 'o',\n",
       " 'n',\n",
       " ' ',\n",
       " ',',\n",
       " ' ',\n",
       " 'a',\n",
       " 'n',\n",
       " 'd',\n",
       " ' ',\n",
       " 't',\n",
       " 'h',\n",
       " 'e',\n",
       " ' ',\n",
       " 's',\n",
       " 'e',\n",
       " 'c',\n",
       " 't',\n",
       " 'i',\n",
       " 'o',\n",
       " 'n',\n",
       " ' ',\n",
       " ',',\n",
       " ' ',\n",
       " 'a']"
      ]
     },
     "execution_count": 263,
     "metadata": {},
     "output_type": "execute_result"
    }
   ],
   "source": [
    "char_greedy_search(CLM, 'h', 64)"
   ]
  },
  {
   "cell_type": "code",
   "execution_count": 374,
   "metadata": {},
   "outputs": [
    {
     "data": {
      "text/plain": [
       "['b',\n",
       " 'e',\n",
       " ' ',\n",
       " 't',\n",
       " 'h',\n",
       " 'e',\n",
       " ' ',\n",
       " 's',\n",
       " 'e',\n",
       " 'c',\n",
       " 't',\n",
       " 'i',\n",
       " 'o',\n",
       " 'n',\n",
       " ' ',\n",
       " ',',\n",
       " ' ',\n",
       " 'a',\n",
       " 'n',\n",
       " 'd',\n",
       " ' ',\n",
       " 't',\n",
       " 'h',\n",
       " 'e',\n",
       " ' ',\n",
       " 's',\n",
       " 'e',\n",
       " 'c',\n",
       " 't',\n",
       " 'i',\n",
       " 'o',\n",
       " 'n',\n",
       " ' ',\n",
       " ',',\n",
       " ' ',\n",
       " 'a',\n",
       " 'n',\n",
       " 'd',\n",
       " ' ',\n",
       " 't',\n",
       " 'h',\n",
       " 'e',\n",
       " ' ',\n",
       " 's',\n",
       " 'e',\n",
       " 'c',\n",
       " 't',\n",
       " 'i',\n",
       " 'o',\n",
       " 'n',\n",
       " ' ',\n",
       " ',',\n",
       " ' ',\n",
       " 'a',\n",
       " 'n',\n",
       " 'd',\n",
       " ' ',\n",
       " 't',\n",
       " 'h',\n",
       " 'e',\n",
       " ' ',\n",
       " 's',\n",
       " 'e',\n",
       " 'c']"
      ]
     },
     "execution_count": 374,
     "metadata": {},
     "output_type": "execute_result"
    }
   ],
   "source": [
    "char_greedy_search(CLM, 'b', 64)"
   ]
  },
  {
   "cell_type": "markdown",
   "metadata": {
    "colab_type": "text",
    "collapsed": true,
    "id": "cernoBq6CdX9"
   },
   "source": [
    "### Requirements:\n",
    "- This is an individual report.\n",
    "- Complete the code using Python.\n",
    "- List students with whom you have discussed if there are any.\n",
    "- Follow the honor code strictly."
   ]
  },
  {
   "cell_type": "markdown",
   "metadata": {
    "colab_type": "text",
    "id": "bDOUuC7-CdX-"
   },
   "source": [
    "### Free GPU Resources\n",
    "We suggest that you run neural language models on machines with GPU(s). Google provides the free online platform [Colaboratory](https://colab.research.google.com/notebooks/welcome.ipynb), a research tool for machine learning education and research. It’s a Jupyter notebook environment that requires no setup to use as common packages have been  pre-installed. Google users can have access to a Tesla T4 GPU (approximately 15G memory). Note that when you connect to a GPU-based VM runtime, you are given a maximum of 12 hours at a time on the VM.\n",
    "\n",
    "It is convenient to upload local Jupyter Notebook files and data to Colab, please refer to the [tutorial](https://colab.research.google.com/notebooks/io.ipynb). \n",
    "\n",
    "In addition, Microsoft also provides the online platform [Azure Notebooks](https://notebooks.azure.com/help/introduction) for research of data science and machine learning, there are free trials for new users with credits."
   ]
  }
 ],
 "metadata": {
  "colab": {
   "name": "mini project.ipynb",
   "provenance": []
  },
  "kernelspec": {
   "display_name": "Python 3",
   "language": "python",
   "name": "python3"
  },
  "language_info": {
   "codemirror_mode": {
    "name": "ipython",
    "version": 3
   },
   "file_extension": ".py",
   "mimetype": "text/x-python",
   "name": "python",
   "nbconvert_exporter": "python",
   "pygments_lexer": "ipython3",
   "version": "3.7.1"
  }
 },
 "nbformat": 4,
 "nbformat_minor": 1
}
