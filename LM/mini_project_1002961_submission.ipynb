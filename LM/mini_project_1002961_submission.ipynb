{
  "nbformat": 4,
  "nbformat_minor": 0,
  "metadata": {
    "colab": {
      "name": "mini_project.ipynb",
      "provenance": []
    },
    "kernelspec": {
      "display_name": "Python 3",
      "language": "python",
      "name": "python3"
    },
    "language_info": {
      "codemirror_mode": {
        "name": "ipython",
        "version": 3
      },
      "file_extension": ".py",
      "mimetype": "text/x-python",
      "name": "python",
      "nbconvert_exporter": "python",
      "pygments_lexer": "ipython3",
      "version": "3.7.1"
    },
    "accelerator": "GPU"
  },
  "cells": [
    {
      "cell_type": "markdown",
      "metadata": {
        "colab_type": "text",
        "id": "pf_8OI34CdXU"
      },
      "source": [
        "<img src=\"sutd.png\" alt=\"drawing\" style=\"width:300px;\"/>\n",
        "\n",
        "## <center>50.040 Natural Language Processing, Summer 2020<center>\n",
        "<center>**Due 19 June 2020, 5pm** <center>\n",
        "Mini Project"
      ]
    },
    {
      "cell_type": "markdown",
      "metadata": {
        "colab_type": "text",
        "id": "YAN5MA5GCdXU"
      },
      "source": [
        "**Write your student ID and name**\n",
        "\n",
        "\n",
        "### STUDNET ID: 1002961\n",
        "\n",
        "### Name: Wu Tianyu\n",
        "\n",
        "### Students with whom you have discussed (if any): Liu Xiangyu"
      ]
    },
    {
      "cell_type": "markdown",
      "metadata": {
        "colab_type": "text",
        "id": "V0iF5uWcCdXV"
      },
      "source": [
        "# Introduction\n",
        "\n",
        "Language models are very useful for a wide range of applications, e.g., speech recognition and machine translation. Consider a sentence consisting of words $x_1, x_2, …, x_m$, where $m$ is the length of the sentence, the goal of language modeling is to model the probability of the sentence, where $m \\geq 1$, $x_i \\in V $ and $V$ is the vocabulary of the corpus:\n",
        "$$p(x_1, x_2, …, x_m)$$\n",
        "In this project, we are going to explore both statistical language model and neural language model on the [Wikitext-2](https://blog.einstein.ai/the-wikitext-long-term-dependency-language-modeling-dataset/) datasets. Download wikitext-2 word-level data and put it under the ``data`` folder.\n",
        "\n",
        "## Statistical  Language Model\n",
        "\n",
        "A simple way is to view words as independent random variables (i.e., zero-th order Markovian assumption). The joint probability can be written as:\n",
        "$$p(x_1, x_2, …, x_m)=\\prod_{i=1}^m p(x_i)$$\n",
        "However, this model ignores the word order information, to account for which, under the first-order Markovian assumption, the joint probability can be written as:\n",
        "$$p(x_0, x_1, x_2, …, x_m)= \\prod_{i=1}^{m}p(x_i \\mid x_{i-1})$$\n",
        "Under the second-order Markovian assumption, the joint probability can be written as:\n",
        "$$p(x_{-1}, x_0, x_1, x_2, …, x_m)= \\prod_{i=1}^{m}p(x_i \\mid x_{i-2}, x_{i-1})$$\n",
        "Similar to what we did in HMM, we will assume that $x_{-1}=START, x_0=START, x_m = STOP$ in this definition, where $START, STOP$ are special symbols referring to the start and the end of a sentence.\n",
        "\n",
        "\n",
        "\n",
        "\n",
        "\n"
      ]
    },
    {
      "cell_type": "markdown",
      "metadata": {
        "colab_type": "text",
        "id": "F5wC4lqKCdXW"
      },
      "source": [
        "### Parameter estimation\n",
        "\n",
        "Let's use $count(u)$ to denote the number of times the unigram $u$ appears in the corpus, use $count(v, u)$ to denote the number of times the bigram $v, u$ appears in the corpus, and $count(w, v, u)$ the times the trigram $w, v, u$ appears in the corpus, $u \\in V \\cup STOP$ and $w, v \\in V \\cup START$.\n",
        "\n",
        "And the parameters of the unigram, bigram and trigram models can be obtained using maximum likelihood estimation (MLE).\n",
        "\n",
        "- In the unigram model, the parameters can be estimated as: $$p(u) = \\frac {count(u)}{c}$$, where $c$ is the total number of words in the corpus.\n",
        "- In the bigram model, the parameters can be estimated as:\n",
        "$$p(u \\mid v) = \\frac{count(v, u)}{count(v)}$$\n",
        "- In the trigram model, the parameters can be estimated as:\n",
        "$$p(u \\mid w, v) = \\frac{count(w, v, u)}{count(w, v)}$$\n",
        "\n",
        "\n"
      ]
    },
    {
      "cell_type": "code",
      "metadata": {
        "id": "FhEVqjpmvK99",
        "colab_type": "code",
        "colab": {
          "base_uri": "https://localhost:8080/",
          "height": 17
        },
        "outputId": "46e50e36-3cb1-42ed-f020-1796371e711c"
      },
      "source": [
        "%%javascript\n",
        "MathJax.Hub.Config({\n",
        "  TeX: { equationNumbers: { autoNumber: \"AMS\" } }\n",
        "});"
      ],
      "execution_count": 1,
      "outputs": [
        {
          "output_type": "display_data",
          "data": {
            "application/javascript": [
              "MathJax.Hub.Config({\n",
              "  TeX: { equationNumbers: { autoNumber: \"AMS\" } }\n",
              "});"
            ],
            "text/plain": [
              "<IPython.core.display.Javascript object>"
            ]
          },
          "metadata": {
            "tags": []
          }
        }
      ]
    },
    {
      "cell_type": "markdown",
      "metadata": {
        "colab_type": "text",
        "id": "C7dks8t0CdXW"
      },
      "source": [
        "### Smoothing the parameters\n",
        "Note, it is likely that many parameters of bigram and trigram models will be 0 because the relevant bigrams and trigrams involved do not appear in the corpus. If you don't have a way to handle these 0 probabilities, all the sentences that include such bigrams or trigrams will have probabilities of 0.\n",
        "\n",
        "We'll use a Add-k Smoothing method to fix this problem, the smoothed parameter can be estimated as:\n",
        "\\begin{equation}\n",
        "p_{add-k}(u)= \\frac{count(u)+k}{c+k|V^*|}\n",
        "\\end{equation}\n",
        "\\begin{equation}\n",
        "p_{add-k}(u \\mid v)= \\frac{count(v, u)+k}{count(v)+k|V^*|}\n",
        "\\end{equation}\n",
        "\\begin{equation}\n",
        "p_{add-k}(u \\mid w, v)= \\frac{count(w, v, u)+k}{count(w, v)+k|V^*|}\n",
        "\\end{equation}\n",
        "\n",
        "where $k \\in (0, 1)$ is the parameter of this approach, and $|V^*|$ is the size of the vocabulary $V^*$,here $V^*= V \\cup STOP$. One way to choose the value of $k$ is by\n",
        "optimizing the perplexity of the development set, namely to choose the value that minimizes the perplexity."
      ]
    },
    {
      "cell_type": "code",
      "metadata": {
        "id": "R6wkSaivwY0Q",
        "colab_type": "code",
        "colab": {
          "base_uri": "https://localhost:8080/",
          "height": 122
        },
        "outputId": "c9ff00e0-4975-49af-e08c-af58eb7970c1"
      },
      "source": [
        "from google.colab import drive\n",
        "drive.mount('/content/drive')"
      ],
      "execution_count": 2,
      "outputs": [
        {
          "output_type": "stream",
          "text": [
            "Go to this URL in a browser: https://accounts.google.com/o/oauth2/auth?client_id=947318989803-6bn6qk8qdgf4n4g3pfee6491hc0brc4i.apps.googleusercontent.com&redirect_uri=urn%3aietf%3awg%3aoauth%3a2.0%3aoob&response_type=code&scope=email%20https%3a%2f%2fwww.googleapis.com%2fauth%2fdocs.test%20https%3a%2f%2fwww.googleapis.com%2fauth%2fdrive%20https%3a%2f%2fwww.googleapis.com%2fauth%2fdrive.photos.readonly%20https%3a%2f%2fwww.googleapis.com%2fauth%2fpeopleapi.readonly\n",
            "\n",
            "Enter your authorization code:\n",
            "··········\n",
            "Mounted at /content/drive\n"
          ],
          "name": "stdout"
        }
      ]
    },
    {
      "cell_type": "markdown",
      "metadata": {
        "colab_type": "text",
        "id": "SNVha_8UCdXX"
      },
      "source": [
        "### Perplexity\n",
        "\n",
        "Given a test set $D^{\\prime}$ consisting of sentences $X^{(1)}, X^{(2)}, …, X^{(|D^{\\prime}|)}$, each sentence $X^{(j)}$ consists of words $x_1^{(j)}, x_2^{(j)},…,x_{n_j}^{(j)}$, we can measure the probability of each sentence $s_i$, and the quality of the language model would be the probability it assigns to the entire set of test sentences, namely:\n",
        "\\begin{equation} \n",
        "\\prod_j^{D^{\\prime}}p(X^{(j)})\n",
        "\\end{equation}\n",
        "Let's define average log2 probability as:\n",
        "\\begin{equation} \n",
        "l=\\frac{1}{c^{\\prime}}\\sum_{j=1}^{|D^{\\prime}|}log_2p(X^{(j)})\n",
        "\\end{equation}\n",
        "$c^{\\prime}$ is the total number of words in the test set, $D^{\\prime}$ is the number of sentences. And the perplexity is defined as:\n",
        "\\begin{equation} \n",
        "perplexity=2^{-l}\n",
        "\\end{equation}\n",
        "\n",
        "The lower the perplexity, the better the language model."
      ]
    },
    {
      "cell_type": "code",
      "metadata": {
        "id": "1DlwHGmXvK-C",
        "colab_type": "code",
        "colab": {}
      },
      "source": [
        "from collections import Counter, namedtuple\n",
        "import itertools\n",
        "import numpy as np"
      ],
      "execution_count": 3,
      "outputs": []
    },
    {
      "cell_type": "code",
      "metadata": {
        "id": "l3RlA9AwvK-E",
        "colab_type": "code",
        "colab": {}
      },
      "source": [
        "with open('/content/drive/My Drive/data/wikitext-2/wiki.train.tokens', 'r', encoding='utf8') as f:\n",
        "    text = f.readlines()\n",
        "    train_sents = [line.lower().strip('\\n').split() for line in text]\n",
        "    train_sents = [s for s in train_sents if len(s)>0 and s[0] != '=']"
      ],
      "execution_count": 4,
      "outputs": []
    },
    {
      "cell_type": "code",
      "metadata": {
        "id": "4kHAyZlfvK-G",
        "colab_type": "code",
        "colab": {
          "base_uri": "https://localhost:8080/",
          "height": 54
        },
        "outputId": "f11e1bc4-cb45-42c1-90c0-b79bccdb5a24"
      },
      "source": [
        "print(train_sents[1])"
      ],
      "execution_count": 5,
      "outputs": [
        {
          "output_type": "stream",
          "text": [
            "['the', 'game', 'began', 'development', 'in', '2010', ',', 'carrying', 'over', 'a', 'large', 'portion', 'of', 'the', 'work', 'done', 'on', 'valkyria', 'chronicles', 'ii', '.', 'while', 'it', 'retained', 'the', 'standard', 'features', 'of', 'the', 'series', ',', 'it', 'also', 'underwent', 'multiple', 'adjustments', ',', 'such', 'as', 'making', 'the', 'game', 'more', '<unk>', 'for', 'series', 'newcomers', '.', 'character', 'designer', '<unk>', 'honjou', 'and', 'composer', 'hitoshi', 'sakimoto', 'both', 'returned', 'from', 'previous', 'entries', ',', 'along', 'with', 'valkyria', 'chronicles', 'ii', 'director', 'takeshi', 'ozawa', '.', 'a', 'large', 'team', 'of', 'writers', 'handled', 'the', 'script', '.', 'the', 'game', \"'s\", 'opening', 'theme', 'was', 'sung', 'by', 'may', \"'n\", '.']\n"
          ],
          "name": "stdout"
        }
      ]
    },
    {
      "cell_type": "markdown",
      "metadata": {
        "colab_type": "text",
        "id": "G0vxL-WpCdXX"
      },
      "source": [
        "### Question 1 [code][written]\n",
        "1. Implement the function **\"compute_ngram\"** that computes n-grams in the corpus.\n",
        " (Do not take the START and STOP symbols into consideration for now.) \n",
        " For n=1,2,3, the number of unique n-grams should be **28910/577343/1344047**, respectively.\n",
        "2. List 10 most frequent unigrams, bigrams and trigrams as well as their counts.(Hint: use the built-in function .most_common in Counter class)"
      ]
    },
    {
      "cell_type": "code",
      "metadata": {
        "colab_type": "code",
        "id": "TOyoT-QiCdXY",
        "colab": {}
      },
      "source": [
        "def compute_ngram(sents, n):\n",
        "    '''\n",
        "    Compute n-grams that appear in \"sents\".\n",
        "    param:\n",
        "        sents: list[list[str]] --- list of list of word strings\n",
        "        n: int --- \"n\" gram\n",
        "    return:\n",
        "        ngram_set: set{str} --- a set of n-grams (no duplicate elements)\n",
        "        ngram_dict: dict{ngram: counts} --- a dictionary that maps each ngram to its number occurence in \"sents\";\n",
        "        This dict contains the parameters of our ngram model. E.g. if n=2, ngram_dict={('a','b'):10, ('b','c'):13}\n",
        "        \n",
        "        You may need to use \"Counter\", \"tuple\" function here.\n",
        "    '''\n",
        "    ngram_set = set()\n",
        "    ngram_dict = dict()\n",
        "    ### YOUR CODE HERE\n",
        "    for sent in sents:\n",
        "        for i in range(len(sent)-n+1):\n",
        "            ngram = tuple(sent[i:i+n])\n",
        "            if ngram not in ngram_dict:\n",
        "                ngram_dict[ngram] = 1\n",
        "                ngram_set.add(ngram)\n",
        "            else:\n",
        "                ngram_dict[ngram] += 1\n",
        "                \n",
        "    \n",
        "    ### END OF YOUR CODE\n",
        "    return ngram_set, ngram_dict"
      ],
      "execution_count": 6,
      "outputs": []
    },
    {
      "cell_type": "code",
      "metadata": {
        "id": "lhJk_EKXvK-M",
        "colab_type": "code",
        "colab": {
          "base_uri": "https://localhost:8080/",
          "height": 34
        },
        "outputId": "ec03d9e8-13b0-4856-8f13-dbd86f60b892"
      },
      "source": [
        "### ~28xxx\n",
        "unigram_set, unigram_dict = compute_ngram(train_sents, 1)\n",
        "print(len(unigram_set))"
      ],
      "execution_count": 7,
      "outputs": [
        {
          "output_type": "stream",
          "text": [
            "28910\n"
          ],
          "name": "stdout"
        }
      ]
    },
    {
      "cell_type": "code",
      "metadata": {
        "id": "Prq75sVuvK-P",
        "colab_type": "code",
        "colab": {
          "base_uri": "https://localhost:8080/",
          "height": 34
        },
        "outputId": "17f035cf-2b1c-4719-fd6c-04a4ddd7d948"
      },
      "source": [
        "### ~57xxxx\n",
        "bigram_set, bigram_dict = compute_ngram(train_sents, 2)\n",
        "print(len(bigram_set))"
      ],
      "execution_count": 8,
      "outputs": [
        {
          "output_type": "stream",
          "text": [
            "577343\n"
          ],
          "name": "stdout"
        }
      ]
    },
    {
      "cell_type": "code",
      "metadata": {
        "id": "tcU9kRmgvK-R",
        "colab_type": "code",
        "colab": {
          "base_uri": "https://localhost:8080/",
          "height": 34
        },
        "outputId": "93f1fbe3-016a-4f11-ce56-1c54c7e77a40"
      },
      "source": [
        "### ~134xxxx\n",
        "trigram_set, trigram_dict = compute_ngram(train_sents, 3)\n",
        "print(len(trigram_set))"
      ],
      "execution_count": 9,
      "outputs": [
        {
          "output_type": "stream",
          "text": [
            "1344047\n"
          ],
          "name": "stdout"
        }
      ]
    },
    {
      "cell_type": "code",
      "metadata": {
        "id": "7HKmz5rNvK-T",
        "colab_type": "code",
        "colab": {
          "base_uri": "https://localhost:8080/",
          "height": 527
        },
        "outputId": "45e17501-97c7-4101-b316-6d1d51b4ab2d"
      },
      "source": [
        "# List 10 most frequent unigrams, bigrams and trigrams as well as their counts.\n",
        "unigram_dict_sorted = {k: v for k, v in sorted(unigram_dict.items(), key=lambda item: item[1], reverse=True)[:10]}\n",
        "bigram_dict_sorted = {k: v for k, v in sorted(bigram_dict.items(), key=lambda item: item[1], reverse=True)[:10]}\n",
        "trigram_dict_sorted = {k: v for k, v in sorted(trigram_dict.items(), key=lambda item: item[1], reverse=True)[:10]}\n",
        "unigram_dict_sorted, bigram_dict_sorted, trigram_dict_sorted"
      ],
      "execution_count": 10,
      "outputs": [
        {
          "output_type": "execute_result",
          "data": {
            "text/plain": [
              "({('\"',): 28285,\n",
              "  (',',): 99763,\n",
              "  ('.',): 73388,\n",
              "  ('<unk>',): 53951,\n",
              "  ('a',): 36140,\n",
              "  ('and',): 49940,\n",
              "  ('in',): 44876,\n",
              "  ('of',): 56743,\n",
              "  ('the',): 130519,\n",
              "  ('to',): 39462},\n",
              " {(',', 'and'): 11643,\n",
              "  (',', 'the'): 8024,\n",
              "  ('.', 'the'): 11274,\n",
              "  ('<unk>', ','): 7698,\n",
              "  ('and', 'the'): 4331,\n",
              "  ('in', 'the'): 11778,\n",
              "  ('of', 'the'): 17242,\n",
              "  ('on', 'the'): 4495,\n",
              "  ('the', '<unk>'): 4389,\n",
              "  ('to', 'the'): 6009},\n",
              " {(',', '<unk>', ','): 950,\n",
              "  (',', 'and', 'the'): 1393,\n",
              "  ('.', 'however', ','): 775,\n",
              "  ('.', 'in', 'the'): 726,\n",
              "  ('.', 'it', 'was'): 698,\n",
              "  ('<unk>', ',', '<unk>'): 901,\n",
              "  ('<unk>', ',', 'and'): 819,\n",
              "  ('<unk>', '<unk>', ','): 745,\n",
              "  ('one', 'of', 'the'): 866,\n",
              "  ('the', 'united', 'states'): 666})"
            ]
          },
          "metadata": {
            "tags": []
          },
          "execution_count": 10
        }
      ]
    },
    {
      "cell_type": "markdown",
      "metadata": {
        "colab_type": "text",
        "id": "PVpoDgU7CdXb"
      },
      "source": [
        "### Question 2 [code][written]\n",
        "In this part, we take the START and STOP symbols into consideration. So we need to pad the **train_sents** as described in \"Statistical Language Model\" before we apply \"compute_ngram\" function. For example, given a sentence \"I like NLP\", in a bigram model, we need to pad it as \"START I like NLP STOP\", in a trigram model, we need to pad it as \"START START I like NLP STOP\".\n",
        "\n",
        "1. Implement the ``pad_sents function``.\n",
        "2. Pad ``train_sents``.\n",
        "3. Apply ``compute_ngram`` function to these padded sents. \n",
        "4. Implement ``ngram_prob`` function. Compute the probability for each n-gram in the variable **ngrams** according to Eq.(1)(2)(3) in **\"smoothing the parameters\"** .List down the n-grams that have 0 probability. \n",
        "\n"
      ]
    },
    {
      "cell_type": "code",
      "metadata": {
        "id": "Se2389qPvK-W",
        "colab_type": "code",
        "colab": {
          "base_uri": "https://localhost:8080/",
          "height": 54
        },
        "outputId": "efc1e2e2-063d-4865-ed8b-ae58e08cc027"
      },
      "source": [
        "###############################################\n",
        "ngrams = list()\n",
        "with open(r'/content/drive/My Drive/data/ngram.txt','r') as f:\n",
        "    for line in f:\n",
        "        ngrams.append(line.strip('\\n').split())\n",
        "print(ngrams)\n",
        "###############################################"
      ],
      "execution_count": 11,
      "outputs": [
        {
          "output_type": "stream",
          "text": [
            "[['the', 'computer'], ['go', 'to'], ['have', 'had'], ['and', 'the'], ['can', 'sea'], ['a', 'number', 'of'], ['with', 'respect', 'to'], ['in', 'terms', 'of'], ['not', 'good', 'bad'], ['first', 'start', 'with']]\n"
          ],
          "name": "stdout"
        }
      ]
    },
    {
      "cell_type": "markdown",
      "metadata": {
        "id": "WPUPVx9gvK-Z",
        "colab_type": "text"
      },
      "source": [
        "#### I didn't know that unigram doesn't have a STOP symbol, this is really crucial for getting the correct perplexity in Q3"
      ]
    },
    {
      "cell_type": "code",
      "metadata": {
        "id": "VOX2h9BpvK-a",
        "colab_type": "code",
        "colab": {}
      },
      "source": [
        "START = '<START>'\n",
        "STOP = '<STOP>'\n",
        "###################################\n",
        "def pad_sents(sents, n):\n",
        "    '''\n",
        "    Pad the sents according to n.\n",
        "    params:\n",
        "        sents: list[list[str]] --- list of sentences.\n",
        "        n: int --- specify the padding type, 1-gram, 2-gram, or 3-gram.\n",
        "    return:\n",
        "        padded_sents: list[list[str]] --- list of padded sentences.\n",
        "    '''\n",
        "    padded_sents = None\n",
        "    ### YOUR CODE HERE\n",
        "    padded_sents = [[START]*(n-1) + sent + [STOP] for sent in sents] if n != 1 else sents\n",
        "    ### END OF YOUR CODE\n",
        "    return padded_sents"
      ],
      "execution_count": 12,
      "outputs": []
    },
    {
      "cell_type": "code",
      "metadata": {
        "id": "XOwmbXzyvK-c",
        "colab_type": "code",
        "colab": {}
      },
      "source": [
        "uni_sents = pad_sents(train_sents, 1)\n",
        "bi_sents = pad_sents(train_sents, 2)\n",
        "tri_sents = pad_sents(train_sents, 3)"
      ],
      "execution_count": 13,
      "outputs": []
    },
    {
      "cell_type": "code",
      "metadata": {
        "id": "ZnjjVwUMvK-e",
        "colab_type": "code",
        "colab": {}
      },
      "source": [
        "unigram_set, unigram_dict = compute_ngram(uni_sents, 1)\n",
        "bigram_set, bigram_dict = compute_ngram(bi_sents, 2)\n",
        "trigram_set, trigram_dict = compute_ngram(tri_sents, 3)"
      ],
      "execution_count": 14,
      "outputs": []
    },
    {
      "cell_type": "code",
      "metadata": {
        "id": "egGafbOkvK-g",
        "colab_type": "code",
        "colab": {
          "base_uri": "https://localhost:8080/",
          "height": 34
        },
        "outputId": "8d95ee52-0a8e-4aba-957e-030d20a78fdd"
      },
      "source": [
        "### (28xxx, 58xxxx, 136xxxx)\n",
        "len(unigram_set),len(bigram_set),len(trigram_set)"
      ],
      "execution_count": 15,
      "outputs": [
        {
          "output_type": "execute_result",
          "data": {
            "text/plain": [
              "(28910, 580825, 1363266)"
            ]
          },
          "metadata": {
            "tags": []
          },
          "execution_count": 15
        }
      ]
    },
    {
      "cell_type": "code",
      "metadata": {
        "id": "nSjPhCM9vK-i",
        "colab_type": "code",
        "colab": {
          "base_uri": "https://localhost:8080/",
          "height": 34
        },
        "outputId": "217e7fd1-86eb-415e-94d1-0d4ed05acefd"
      },
      "source": [
        "### ~ 200xxxx; total number of words in wikitext-2.train\n",
        "num_words = sum([v for _,v in unigram_dict.items()])\n",
        "print(num_words)"
      ],
      "execution_count": 16,
      "outputs": [
        {
          "output_type": "stream",
          "text": [
            "2007146\n"
          ],
          "name": "stdout"
        }
      ]
    },
    {
      "cell_type": "code",
      "metadata": {
        "id": "jSLRHrhWvK-l",
        "colab_type": "code",
        "colab": {}
      },
      "source": [
        "def ngram_prob(ngram, num_words, unigram_dic, bigram_dic, trigram_dic):\n",
        "    '''\n",
        "    params:\n",
        "        ngram: list[str] --- a list that represents n-gram\n",
        "        num_words: int --- total number of words\n",
        "        unigram_dic: dict{ngram: counts} --- a dictionary that maps each 1-gram to its number of occurences in \"sents\";\n",
        "        bigram_dic: dict{ngram: counts} --- a dictionary that maps each 2-gram to its number of occurence in \"sents\";\n",
        "        trigram_dic: dict{ngram: counts} --- a dictionary that maps each 3-gram to its number occurence in \"sents\";\n",
        "    return:\n",
        "        prob: float --- probability of the \"ngram\"\n",
        "    '''\n",
        "    prob = None\n",
        "    ### YOUR CODE HERE\n",
        "    if len(ngram) == 1:\n",
        "        prob = unigram_dic[tuple(ngram)]/num_words if tuple(ngram) in unigram_dic.keys() else 0\n",
        "    elif len(ngram) == 2:\n",
        "        SUM = sum([bigram_dic[bigram] for bigram in bigram_dic if bigram[0] == ngram[0]])\n",
        "        prob = bigram_dic[tuple(ngram)]/SUM if tuple(ngram) in bigram_dic.keys() and SUM != 0 else 0\n",
        "    elif len(ngram) == 3:\n",
        "        SUM = sum([trigram_dic[trigram] for trigram in trigram_dic if tuple(trigram[:2]) == tuple(ngram[:2])])\n",
        "        prob = trigram_dic[tuple(ngram)]/SUM if tuple(ngram) in trigram_dic.keys() and SUM != 0 else 0\n",
        "    ### END OF YOUR CODE\n",
        "    return prob"
      ],
      "execution_count": 17,
      "outputs": []
    },
    {
      "cell_type": "code",
      "metadata": {
        "id": "dRXWQI-IvK-n",
        "colab_type": "code",
        "colab": {
          "base_uri": "https://localhost:8080/",
          "height": 34
        },
        "outputId": "4a6d2101-a01a-4435-c838-f71a20e3472b"
      },
      "source": [
        "### ~9.96e-05\n",
        "ngram_prob(ngrams[0], num_words,unigram_dict, bigram_dict, trigram_dict)"
      ],
      "execution_count": 18,
      "outputs": [
        {
          "output_type": "execute_result",
          "data": {
            "text/plain": [
              "9.960235674499498e-05"
            ]
          },
          "metadata": {
            "tags": []
          },
          "execution_count": 18
        }
      ]
    },
    {
      "cell_type": "code",
      "metadata": {
        "id": "FL_lxbltvK-p",
        "colab_type": "code",
        "colab": {
          "base_uri": "https://localhost:8080/",
          "height": 34
        },
        "outputId": "a7d67792-d7a3-4035-ca7c-feba598a3b76"
      },
      "source": [
        "ngram_prob(ngrams[5], num_words,unigram_dict, bigram_dict, trigram_dict)"
      ],
      "execution_count": 19,
      "outputs": [
        {
          "output_type": "execute_result",
          "data": {
            "text/plain": [
              "0.9573170731707317"
            ]
          },
          "metadata": {
            "tags": []
          },
          "execution_count": 19
        }
      ]
    },
    {
      "cell_type": "code",
      "metadata": {
        "id": "vGgTp0QRvK-r",
        "colab_type": "code",
        "colab": {
          "base_uri": "https://localhost:8080/",
          "height": 68
        },
        "outputId": "68cd574c-c869-4fb2-822c-01284fa102bb"
      },
      "source": [
        "### List down the n-grams that have 0 probability. \n",
        "list(filter(lambda x: x[1]==0, [(ngram, ngram_prob(ngram, num_words,unigram_dict, bigram_dict, trigram_dict)) for ngram in ngrams]))"
      ],
      "execution_count": 20,
      "outputs": [
        {
          "output_type": "execute_result",
          "data": {
            "text/plain": [
              "[(['can', 'sea'], 0),\n",
              " (['not', 'good', 'bad'], 0),\n",
              " (['first', 'start', 'with'], 0)]"
            ]
          },
          "metadata": {
            "tags": []
          },
          "execution_count": 20
        }
      ]
    },
    {
      "cell_type": "code",
      "metadata": {
        "id": "zjbGkLByvK-t",
        "colab_type": "code",
        "colab": {
          "base_uri": "https://localhost:8080/",
          "height": 34
        },
        "outputId": "463aca92-c8e4-4da7-a555-ab7301d7d520"
      },
      "source": [
        "[ngram for ngram in ngrams if ngram_prob(ngram, num_words,unigram_dict, bigram_dict, trigram_dict) == 0]"
      ],
      "execution_count": 21,
      "outputs": [
        {
          "output_type": "execute_result",
          "data": {
            "text/plain": [
              "[['can', 'sea'], ['not', 'good', 'bad'], ['first', 'start', 'with']]"
            ]
          },
          "metadata": {
            "tags": []
          },
          "execution_count": 21
        }
      ]
    },
    {
      "cell_type": "markdown",
      "metadata": {
        "colab_type": "text",
        "id": "2kAezpJ9CdXd"
      },
      "source": [
        "### Question 3 [code][written]\n",
        "\n",
        "1. Implement ``smooth_ngram_prob`` function to estimate ngram probability with ``add-k`` smoothing technique. Compute the smoothed probabilities of each n-gram in the variable **\"ngrams\"** according to Eq.(1)(2)(3) in **\"smoothing the parameters\"** section.\n",
        "2. Implement ``perplexity`` function to compute the perplexity of the corpus \"**valid_sents**\" according to the Equations (4),(5),(6) in **perplexity** section. The computation of $p(X^{(j)})$ depends on the n-gram model you choose. If you choose 2-gram model, then you need to calculate $p(X^{(j)})$ based on Eq.(2) in **smoothing the parameter** section. Hint: convert probability to log probability.\n",
        "3. Try out different $k\\in [0.1, 0.3, 0.5, 0.7, 0.9]$ and different n-gram model ($n=1,2,3$). Find the n-gram model and $k$ that gives the best perplexity on \"**valid_sents**\" (smaller is better)."
      ]
    },
    {
      "cell_type": "code",
      "metadata": {
        "id": "9lKtlJmNvK-w",
        "colab_type": "code",
        "colab": {}
      },
      "source": [
        "with open('/content/drive/My Drive/data/wikitext-2/wiki.valid.tokens', 'r', encoding='utf8') as f:\n",
        "    text = f.readlines()\n",
        "    valid_sents = [line.lower().strip('\\n').split() for line in text]\n",
        "    valid_sents = [s for s in valid_sents if len(s)>0 and s[0] != '=']\n",
        "\n",
        "uni_valid_sents = pad_sents(valid_sents, 1)\n",
        "bi_valid_sents = pad_sents(valid_sents, 2)\n",
        "tri_valid_sents = pad_sents(valid_sents, 3)"
      ],
      "execution_count": 22,
      "outputs": []
    },
    {
      "cell_type": "markdown",
      "metadata": {
        "id": "EhhIKOH-vK-y",
        "colab_type": "text"
      },
      "source": [
        "### Smoothing the parameters\n",
        "Note, it is likely that many parameters of bigram and trigram models will be 0 because the relevant bigrams and trigrams involved do not appear in the corpus. If you don't have a way to handle these 0 probabilities, all the sentences that include such bigrams or trigrams will have probabilities of 0.\n",
        "\n",
        "We'll use a Add-k Smoothing method to fix this problem, the smoothed parameter can be estimated as:\n",
        "\\begin{equation}\n",
        "p_{add-k}(u)= \\frac{count(u)+k}{c+k|V^*|}\n",
        "\\end{equation}\n",
        "\\begin{equation}\n",
        "p_{add-k}(u \\mid v)= \\frac{count(v, u)+k}{count(v)+k|V^*|}\n",
        "\\end{equation}\n",
        "\\begin{equation}\n",
        "p_{add-k}(u \\mid w, v)= \\frac{count(w, v, u)+k}{count(w, v)+k|V^*|}\n",
        "\\end{equation}\n",
        "\n",
        "where $k \\in (0, 1)$ is the parameter of this approach, and $|V^*|$ is the size of the vocabulary $V^*$,here $V^*= V \\cup STOP$. One way to choose the value of $k$ is by\n",
        "optimizing the perplexity of the development set, namely to choose the value that minimizes the perplexity.\n"
      ]
    },
    {
      "cell_type": "code",
      "metadata": {
        "id": "YYtKgxetvK-y",
        "colab_type": "code",
        "colab": {}
      },
      "source": [
        "def smooth_ngram_prob(ngram, k, num_words, unigram_dic, bigram_dic, trigram_dic):\n",
        "    '''\n",
        "    params:\n",
        "        ngram: list[str] --- a list that represents n-gram\n",
        "        k: float \n",
        "        num_words: int --- total number of words\n",
        "        unigram_dic: dict{ngram: counts} --- a dictionary that maps each 1-gram to its number of occurences in \"sents\";\n",
        "        bigram_dic: dict{ngram: counts} --- a dictionary that maps each 2-gram to its number of occurence in \"sents\";\n",
        "        trigram_dic: dict{ngram: counts} --- a dictionary that maps each 3-gram to its number occurence in \"sents\";\n",
        "    return:\n",
        "        s_prob: float --- probability of the \"ngram\"\n",
        "    '''\n",
        "    s_prob = 0\n",
        "    V = len(unigram_dic) + 1 \n",
        "    ### YOUR CODE HERE\\、\n",
        "    if len(ngram) == 1:\n",
        "        s_prob = (unigram_dic[tuple(ngram)]+k)/(num_words+k*V) if tuple(ngram) in unigram_dic else k/(num_words+k*V)\n",
        "    elif len(ngram) == 2:\n",
        "        SUM = sum([bigram_dic[bigram] for bigram in bigram_dic if bigram[0] == ngram[0]])\n",
        "        s_prob = (bigram_dic[tuple(ngram)]+k)/(SUM+k*V) if tuple(ngram) in bigram_dic else k/(SUM+k*V)\n",
        "    elif len(ngram) == 3:\n",
        "        SUM = sum([trigram_dic[trigram] for trigram in trigram_dic if tuple(trigram[:2]) == tuple(ngram[:2])])\n",
        "        s_prob = (trigram_dic[tuple(ngram)]+k)/(SUM+k*V) if tuple(ngram) in trigram_dic else k/(SUM+k*V)\n",
        "    ### END OF YOUR CODE\n",
        "    return s_prob"
      ],
      "execution_count": 23,
      "outputs": []
    },
    {
      "cell_type": "code",
      "metadata": {
        "id": "r7_Tfb95vK-0",
        "colab_type": "code",
        "colab": {}
      },
      "source": [
        "def smooth_ngram_prob_fast(ngram, k, num_words, unigram_dic, bigram_dic, trigram_dic, unigram_dic_ref, bigram_dic_ref):\n",
        "    '''\n",
        "    params:\n",
        "        ngram: list[str] --- a list that represents n-gram\n",
        "        k: float \n",
        "        num_words: int --- total number of words\n",
        "        unigram_dic: dict{ngram: counts} --- a dictionary that maps each 1-gram to its number of occurences in \"sents\";\n",
        "        bigram_dic: dict{ngram: counts} --- a dictionary that maps each 2-gram to its number of occurence in \"sents\";\n",
        "        trigram_dic: dict{ngram: counts} --- a dictionary that maps each 3-gram to its number occurence in \"sents\";\n",
        "    return:\n",
        "        s_prob: float --- probability of the \"ngram\"\n",
        "    '''\n",
        "    s_prob = 0\n",
        "    V = len(unigram_dic) + 1 \n",
        "    ### YOUR CODE HERE\\、\n",
        "    if len(ngram) == 1:\n",
        "        s_prob = (unigram_dic[tuple(ngram)]+k)/(num_words+k*V) if tuple(ngram) in unigram_dic else k/(num_words+k*V)\n",
        "    elif len(ngram) == 2:\n",
        "        SUM = unigram_dic_ref[tuple(ngram[:1])] if tuple(ngram[:1]) in unigram_dic_ref else 0\n",
        "        s_prob = (bigram_dic[tuple(ngram)]+k)/(SUM+k*V) if tuple(ngram) in bigram_dic else k/(SUM+k*V)\n",
        "    elif len(ngram) == 3:\n",
        "        SUM = bigram_dic_ref[tuple(ngram[:2])] if tuple(ngram[:2]) in bigram_dic_ref else 0\n",
        "        s_prob = (trigram_dic[tuple(ngram)]+k)/(SUM+k*V) if tuple(ngram) in trigram_dic else k/(SUM+k*V)\n",
        "    ### END OF YOUR CODE\n",
        "    return s_prob"
      ],
      "execution_count": 24,
      "outputs": []
    },
    {
      "cell_type": "code",
      "metadata": {
        "id": "Wtsq3jQFvK-4",
        "colab_type": "code",
        "colab": {}
      },
      "source": [
        "_, unigram_dic_ref = compute_ngram(bi_sents, 1)\n",
        "_, bigram_dic_ref = compute_ngram(tri_sents, 2)"
      ],
      "execution_count": 25,
      "outputs": []
    },
    {
      "cell_type": "code",
      "metadata": {
        "id": "H5Z1ToXIvK-6",
        "colab_type": "code",
        "colab": {
          "base_uri": "https://localhost:8080/",
          "height": 34
        },
        "outputId": "1a566757-bf8c-49c3-aa5f-46a929959da3"
      },
      "source": [
        "smooth_ngram_prob_fast(ngrams[0], 0.5, num_words, unigram_dict, bigram_dict, trigram_dict, unigram_dic_ref, bigram_dic_ref)"
      ],
      "execution_count": 26,
      "outputs": [
        {
          "output_type": "execute_result",
          "data": {
            "text/plain": [
              "9.311982452086402e-05"
            ]
          },
          "metadata": {
            "tags": []
          },
          "execution_count": 26
        }
      ]
    },
    {
      "cell_type": "code",
      "metadata": {
        "id": "grYsvorRvK-8",
        "colab_type": "code",
        "colab": {
          "base_uri": "https://localhost:8080/",
          "height": 34
        },
        "outputId": "887c02c1-3898-4e33-b84e-146002a9df39"
      },
      "source": [
        "### ~ 9.31e-05\n",
        "smooth_ngram_prob(ngrams[0], 0.5, num_words, unigram_dict, bigram_dict, trigram_dict)"
      ],
      "execution_count": 27,
      "outputs": [
        {
          "output_type": "execute_result",
          "data": {
            "text/plain": [
              "9.311982452086402e-05"
            ]
          },
          "metadata": {
            "tags": []
          },
          "execution_count": 27
        }
      ]
    },
    {
      "cell_type": "markdown",
      "metadata": {
        "id": "ZX6Q0X-8vK--",
        "colab_type": "text"
      },
      "source": [
        "### Perplexity\n",
        "\n",
        "Given a test set $D^{\\prime}$ consisting of sentences $X^{(1)}, X^{(2)}, …, X^{(|D^{\\prime}|)}$, each sentence $X^{(j)}$ consists of words $x_1^{(j)}, x_2^{(j)},…,x_{n_j}^{(j)}$, we can measure the probability of each sentence $s_i$, and the quality of the language model would be the probability it assigns to the entire set of test sentences, namely:\n",
        "\\begin{equation} \n",
        "\\prod_j^{D^{\\prime}}p(X^{(j)})\n",
        "\\end{equation}\n",
        "Let's define average log2 probability as:\n",
        "\\begin{equation} \n",
        "l=\\frac{1}{c^{\\prime}}\\sum_{j=1}^{|D^{\\prime}|}log_2p(X^{(j)})\n",
        "\\end{equation}\n",
        "$c^{\\prime}$ is the total number of words in the test set, $D^{\\prime}$ is the number of sentences. And the perplexity is defined as:\n",
        "\\begin{equation} \n",
        "perplexity=2^{-l}\n",
        "\\end{equation}\n",
        "\n",
        "The lower the perplexity, the better the language model."
      ]
    },
    {
      "cell_type": "code",
      "metadata": {
        "id": "dTuLHUjkvK-_",
        "colab_type": "code",
        "colab": {}
      },
      "source": [
        "def perplexity(n, k, num_words, valid_sents, unigram_dic, bigram_dic, trigram_dic):\n",
        "    '''\n",
        "    compute the perplexity of valid_sents\n",
        "    params:\n",
        "        n: int --- n-gram model you choose. \n",
        "        k: float --- smoothing parameter.\n",
        "        num_words: int --- total number of words in the traning set.\n",
        "        valid_sents: list[list[str]] --- list of sentences.\n",
        "        unigram_dic: dict{ngram: counts} --- a dictionary that maps each 1-gram to its number of occurences in \"sents\";\n",
        "        bigram_dic: dict{ngram: counts} --- a dictionary that maps each 2-gram to its number of occurence in \"sents\";\n",
        "        trigram_dic: dict{ngram: counts} --- a dictionary that maps each 3-gram to its number occurence in \"sents\";\n",
        "    return:\n",
        "        ppl: float --- perplexity of valid_sents\n",
        "    '''\n",
        "    ppl = None\n",
        "    ### YOUR CODE HERE\n",
        "    SUM = 0\n",
        "    for sent in valid_sents:\n",
        "        for i in range(len(sent)-n+1):\n",
        "            ngram = sent[i:i+n]\n",
        "            SUM += np.log2(smooth_ngram_prob(ngram, k, num_words, unigram_dic, bigram_dic, trigram_dic))\n",
        "    ppl = np.power(2, -SUM/(np.sum([len(sent) for sent in valid_sents] if n == 1 \n",
        "                                   else [len(sent)-n for sent in valid_sents])))\n",
        "    ### END OF YOUR CODE\n",
        "    return ppl"
      ],
      "execution_count": 28,
      "outputs": []
    },
    {
      "cell_type": "code",
      "metadata": {
        "id": "C9i_yEu0vK_B",
        "colab_type": "code",
        "colab": {}
      },
      "source": [
        "def perplexity_fast(n, k, num_words, valid_sents, unigram_dic, bigram_dic, trigram_dic, unigram_dic_ref, bigram_dic_ref):\n",
        "    '''\n",
        "    compute the perplexity of valid_sents\n",
        "    params:\n",
        "        n: int --- n-gram model you choose. \n",
        "        k: float --- smoothing parameter.\n",
        "        num_words: int --- total number of words in the traning set.\n",
        "        valid_sents: list[list[str]] --- list of sentences.\n",
        "        unigram_dic: dict{ngram: counts} --- a dictionary that maps each 1-gram to its number of occurences in \"sents\";\n",
        "        bigram_dic: dict{ngram: counts} --- a dictionary that maps each 2-gram to its number of occurence in \"sents\";\n",
        "        trigram_dic: dict{ngram: counts} --- a dictionary that maps each 3-gram to its number occurence in \"sents\";\n",
        "    return:\n",
        "        ppl: float --- perplexity of valid_sents\n",
        "    '''\n",
        "    ppl = None\n",
        "    ### YOUR CODE HERE\n",
        "    SUM = 0\n",
        "    for sent in valid_sents:\n",
        "        for i in range(len(sent)-n+1):\n",
        "            ngram = sent[i:i+n]\n",
        "            SUM += np.log2(smooth_ngram_prob_fast(ngram, k, num_words, unigram_dic, bigram_dic, trigram_dic, unigram_dic_ref, bigram_dic_ref))\n",
        "    ppl = np.power(2, -SUM/(np.sum([len(sent) for sent in valid_sents] if n == 1 \n",
        "                                   else [len(sent)-n for sent in valid_sents])))\n",
        "    ### END OF YOUR CODE\n",
        "    return ppl"
      ],
      "execution_count": 29,
      "outputs": []
    },
    {
      "cell_type": "code",
      "metadata": {
        "id": "Hl5nPjasvK_E",
        "colab_type": "code",
        "colab": {
          "base_uri": "https://localhost:8080/",
          "height": 34
        },
        "outputId": "7698f84b-77fb-44db-faa1-795e63da7e4c"
      },
      "source": [
        "### ~ 840\n",
        "perplexity(1, 0.1, num_words, uni_valid_sents, unigram_dict, bigram_dict, trigram_dict)"
      ],
      "execution_count": 30,
      "outputs": [
        {
          "output_type": "execute_result",
          "data": {
            "text/plain": [
              "840.7347306217125"
            ]
          },
          "metadata": {
            "tags": []
          },
          "execution_count": 30
        }
      ]
    },
    {
      "cell_type": "code",
      "metadata": {
        "id": "vRtKWB0nvK_F",
        "colab_type": "code",
        "colab": {
          "base_uri": "https://localhost:8080/",
          "height": 34
        },
        "outputId": "bd6f9d58-467b-4289-895e-01f99dd7b11c"
      },
      "source": [
        "perplexity_fast(1, 0.1, num_words, uni_valid_sents, unigram_dict, bigram_dict, trigram_dict, unigram_dic_ref, bigram_dic_ref)"
      ],
      "execution_count": 31,
      "outputs": [
        {
          "output_type": "execute_result",
          "data": {
            "text/plain": [
              "840.7347306217125"
            ]
          },
          "metadata": {
            "tags": []
          },
          "execution_count": 31
        }
      ]
    },
    {
      "cell_type": "code",
      "metadata": {
        "id": "QlA21215vK_I",
        "colab_type": "code",
        "colab": {
          "base_uri": "https://localhost:8080/",
          "height": 34
        },
        "outputId": "199b9de6-1fc6-47f4-91e5-3a1996e22203"
      },
      "source": [
        "uni_valid_sents[0][-1], bi_valid_sents[0][-1], bi_valid_sents[0][0], tri_valid_sents[0][-1], tri_valid_sents[0][0], \\\n",
        "tri_valid_sents[0][1]"
      ],
      "execution_count": 32,
      "outputs": [
        {
          "output_type": "execute_result",
          "data": {
            "text/plain": [
              "('.', '<STOP>', '<START>', '<STOP>', '<START>', '<START>')"
            ]
          },
          "metadata": {
            "tags": []
          },
          "execution_count": 32
        }
      ]
    },
    {
      "cell_type": "markdown",
      "metadata": {
        "id": "xh6ci4FqvK_J",
        "colab_type": "text"
      },
      "source": [
        "#### The original perplexity function is too slow for n=2 and n=3"
      ]
    },
    {
      "cell_type": "code",
      "metadata": {
        "id": "IOtX2NH1vK_K",
        "colab_type": "code",
        "colab": {
          "base_uri": "https://localhost:8080/",
          "height": 527
        },
        "outputId": "256e5cda-35fa-40c6-de12-7205cd19e10f"
      },
      "source": [
        "n = [1,2,3]\n",
        "k = [0.1, 0.3, 0.5, 0.7, 0.9]\n",
        "### YOUR CODE HERE\n",
        "dic = dict()\n",
        "for n_candidate in n:\n",
        "    for k_candidate in k:\n",
        "        dic[(n_candidate, k_candidate)] = \\\n",
        "        perplexity_fast(n_candidate, k_candidate, num_words, uni_valid_sents, unigram_dict, bigram_dict, trigram_dict, unigram_dic_ref, bigram_dic_ref)\n",
        "        print('({}, {}) is done'.format(n_candidate, k_candidate))\n",
        "{k: v for k, v in sorted(dic.items(), key=lambda item: item[1], reverse=False)}\n",
        "### END OF YOUR CODE"
      ],
      "execution_count": 33,
      "outputs": [
        {
          "output_type": "stream",
          "text": [
            "(1, 0.1) is done\n",
            "(1, 0.3) is done\n",
            "(1, 0.5) is done\n",
            "(1, 0.7) is done\n",
            "(1, 0.9) is done\n",
            "(2, 0.1) is done\n",
            "(2, 0.3) is done\n",
            "(2, 0.5) is done\n",
            "(2, 0.7) is done\n",
            "(2, 0.9) is done\n",
            "(3, 0.1) is done\n",
            "(3, 0.3) is done\n",
            "(3, 0.5) is done\n",
            "(3, 0.7) is done\n",
            "(3, 0.9) is done\n"
          ],
          "name": "stdout"
        },
        {
          "output_type": "execute_result",
          "data": {
            "text/plain": [
              "{(1, 0.1): 840.7347306217125,\n",
              " (1, 0.3): 841.1427277044075,\n",
              " (1, 0.5): 841.5959678936326,\n",
              " (1, 0.7): 842.0904494786319,\n",
              " (1, 0.9): 842.6227084935349,\n",
              " (2, 0.1): 888.5413716843532,\n",
              " (2, 0.3): 1279.9314612281546,\n",
              " (2, 0.5): 1558.3253262946232,\n",
              " (2, 0.7): 1788.7398501180635,\n",
              " (2, 0.9): 1990.4960086390406,\n",
              " (3, 0.1): 6400.3643275228305,\n",
              " (3, 0.3): 8953.583675178434,\n",
              " (3, 0.5): 10503.03434155729,\n",
              " (3, 0.7): 11646.964069362453,\n",
              " (3, 0.9): 12559.23934272117}"
            ]
          },
          "metadata": {
            "tags": []
          },
          "execution_count": 33
        }
      ]
    },
    {
      "cell_type": "markdown",
      "metadata": {
        "colab_type": "text",
        "id": "3o_yjh9lCdXg"
      },
      "source": [
        "### Question 4 [code]\n",
        "\n",
        "Evaluate the perplexity of the test data **test_sents** based on the best n-gram model and $k$ you have found on the validation data (Q 3.3)."
      ]
    },
    {
      "cell_type": "code",
      "metadata": {
        "colab_type": "code",
        "id": "i7hGcXgCCdXg",
        "colab": {}
      },
      "source": [
        "with open('/content/drive/My Drive/data/wikitext-2/wiki.test.tokens', 'r', encoding='utf8') as f:\n",
        "    text = f.readlines()\n",
        "    test_sents = [line.lower().strip('\\n').split() for line in text]\n",
        "    test_sents = [s for s in test_sents if len(s)>0 and s[0] != '=']\n",
        "\n",
        "uni_test_sents = pad_sents(test_sents, 1)\n",
        "bi_test_sents = pad_sents(test_sents, 2)\n",
        "tri_test_sents = pad_sents(test_sents, 3)"
      ],
      "execution_count": 34,
      "outputs": []
    },
    {
      "cell_type": "code",
      "metadata": {
        "id": "rg3Y2TmdvK_O",
        "colab_type": "code",
        "colab": {
          "base_uri": "https://localhost:8080/",
          "height": 34
        },
        "outputId": "d4303231-0dd5-4901-9ef6-b33b1c34ed18"
      },
      "source": [
        "### YOUR CODE HERE\n",
        "perplexity_fast(1, 0.1, num_words,bi_test_sents, unigram_dict, bigram_dict, trigram_dict, unigram_dic_ref, bigram_dic_ref)\n",
        "### END OF YOUR CODE"
      ],
      "execution_count": 35,
      "outputs": [
        {
          "output_type": "execute_result",
          "data": {
            "text/plain": [
              "968.3303647875488"
            ]
          },
          "metadata": {
            "tags": []
          },
          "execution_count": 35
        }
      ]
    },
    {
      "cell_type": "markdown",
      "metadata": {
        "colab_type": "text",
        "collapsed": true,
        "id": "ePSI8RDWCdXj"
      },
      "source": [
        "## Neural Language Model (RNN)\n"
      ]
    },
    {
      "cell_type": "markdown",
      "metadata": {
        "colab_type": "text",
        "id": "jkoTco_jCdXj"
      },
      "source": [
        "<img src=\"LM.png\" alt=\"drawing\" style=\"width:500px;\"/>\n",
        "\n",
        "We will create a LSTM language model as shown in figure and train it on the Wikitext-2 dataset. \n",
        "The data generators (train\\_iter, valid\\_iter, test\\_iter) have been provided. \n",
        "The word embeddings together with the parameters in the LSTM model will be learned from scratch.\n",
        "\n",
        "[Pytorch](https://pytorch.org/tutorials/) and [torchtext](https://torchtext.readthedocs.io/en/latest/index.html#) are required in this part. Do not make any changes to the provided code unless you are requested to do so. "
      ]
    },
    {
      "cell_type": "markdown",
      "metadata": {
        "id": "iTzsXM_1vK_R",
        "colab_type": "text"
      },
      "source": [
        "### Question 5 [code]\n",
        "- Implement the ``__init__`` function in ``LangModel`` class.\n",
        "- Implement the ``forward`` function in ``LangModel`` class.\n",
        "- Complete the training code in ``train`` function.\n",
        "    Then complete the testing code in  ``test`` function and \n",
        "    compute the perplexity of the test data ``test_iter``. The test perplexity should be below 150."
      ]
    },
    {
      "cell_type": "code",
      "metadata": {
        "colab_type": "code",
        "id": "tF2GCRdFCdXk",
        "colab": {
          "base_uri": "https://localhost:8080/",
          "height": 68
        },
        "outputId": "258012e8-dc78-43ac-d2fa-60621991dc82"
      },
      "source": [
        "import torchtext\n",
        "import torch\n",
        "import torch.nn.functional as F\n",
        "from torchtext.datasets import WikiText2\n",
        "from torch import nn, optim\n",
        "from torchtext import data\n",
        "from nltk import word_tokenize\n",
        "import nltk\n",
        "nltk.download('punkt')\n",
        "torch.manual_seed(222)"
      ],
      "execution_count": 36,
      "outputs": [
        {
          "output_type": "stream",
          "text": [
            "[nltk_data] Downloading package punkt to /root/nltk_data...\n",
            "[nltk_data]   Unzipping tokenizers/punkt.zip.\n"
          ],
          "name": "stdout"
        },
        {
          "output_type": "execute_result",
          "data": {
            "text/plain": [
              "<torch._C.Generator at 0x7f18f1ed8190>"
            ]
          },
          "metadata": {
            "tags": []
          },
          "execution_count": 36
        }
      ]
    },
    {
      "cell_type": "code",
      "metadata": {
        "colab_type": "code",
        "id": "lt6JBdSnCdXn",
        "colab": {
          "base_uri": "https://localhost:8080/",
          "height": 68
        },
        "outputId": "6dfa6a35-f564-463e-d7da-e6dc6a9e997d"
      },
      "source": [
        "def tokenizer(text):\n",
        "    '''Tokenize a string to words'''\n",
        "    return word_tokenize(text)\n",
        "\n",
        "START = '<START>'\n",
        "STOP = '<STOP>'\n",
        "#Load and split data into three parts\n",
        "TEXT = data.Field(lower=True, tokenize=tokenizer, init_token=START, eos_token=STOP)\n",
        "train, valid, test = WikiText2.splits(TEXT) "
      ],
      "execution_count": 37,
      "outputs": [
        {
          "output_type": "stream",
          "text": [
            "downloading wikitext-2-v1.zip\n"
          ],
          "name": "stdout"
        },
        {
          "output_type": "stream",
          "text": [
            "wikitext-2-v1.zip: 100%|██████████| 4.48M/4.48M [00:01<00:00, 2.58MB/s]\n"
          ],
          "name": "stderr"
        },
        {
          "output_type": "stream",
          "text": [
            "extracting\n"
          ],
          "name": "stdout"
        }
      ]
    },
    {
      "cell_type": "code",
      "metadata": {
        "colab_type": "code",
        "id": "KHwu4VMVCdXq",
        "colab": {
          "base_uri": "https://localhost:8080/",
          "height": 34
        },
        "outputId": "25dbe431-55e6-44ca-f79d-3600ad6014f0"
      },
      "source": [
        "#Build a vocabulary from the train dataset\n",
        "TEXT.build_vocab(train)\n",
        "print('Vocabulary size:', len(TEXT.vocab))"
      ],
      "execution_count": 38,
      "outputs": [
        {
          "output_type": "stream",
          "text": [
            "Vocabulary size: 28908\n"
          ],
          "name": "stdout"
        }
      ]
    },
    {
      "cell_type": "code",
      "metadata": {
        "colab_type": "code",
        "id": "ua9e-OBMCdXs",
        "colab": {}
      },
      "source": [
        "BATCH_SIZE = 64\n",
        "# the length of a piece of text feeding to the RNN layer\n",
        "BPTT_LEN = 32           \n",
        "# train, validation, test data\n",
        "train_iter, valid_iter, test_iter = data.BPTTIterator.splits((train, valid, test),\n",
        "                                                                batch_size=BATCH_SIZE,\n",
        "                                                                bptt_len=BPTT_LEN,\n",
        "                                                                repeat=False)"
      ],
      "execution_count": 39,
      "outputs": []
    },
    {
      "cell_type": "code",
      "metadata": {
        "colab_type": "code",
        "id": "6_Cd8shXCdXy",
        "scrolled": true,
        "colab": {
          "base_uri": "https://localhost:8080/",
          "height": 51
        },
        "outputId": "4c051eea-b414-4924-8182-a2093d19482a"
      },
      "source": [
        "#Generate a batch of train data\n",
        "batch = next(iter(train_iter))\n",
        "text, target = batch.text, batch.target\n",
        "# print(batch.dataset[0].text[:32])\n",
        "# print(text[0:3],target[:3])\n",
        "print('Size of text tensor',text.size())\n",
        "print('Size of target tensor',target.size())"
      ],
      "execution_count": 40,
      "outputs": [
        {
          "output_type": "stream",
          "text": [
            "Size of text tensor torch.Size([32, 64])\n",
            "Size of target tensor torch.Size([32, 64])\n"
          ],
          "name": "stdout"
        }
      ]
    },
    {
      "cell_type": "code",
      "metadata": {
        "id": "jAd4lakUvK_a",
        "colab_type": "code",
        "colab": {
          "base_uri": "https://localhost:8080/",
          "height": 255
        },
        "outputId": "6a2e142a-f887-4be8-9213-fa1f6d01a919"
      },
      "source": [
        "print(text)\n",
        "print(target)"
      ],
      "execution_count": 41,
      "outputs": [
        {
          "output_type": "stream",
          "text": [
            "tensor([[   15,   194,    24,  ...,    78,  1509,    23],\n",
            "        [   17, 12508,   280,  ...,   480,   215,    58],\n",
            "        [ 3879, 25667,     5,  ...,   968,    13,    16],\n",
            "        ...,\n",
            "        [   28,    46,     4,  ...,    95,   179,   325],\n",
            "        [    5,    50,  3952,  ...,    11,    13,    24],\n",
            "        [ 1845,   106,  9171,  ...,  1033,  8323,  1720]])\n",
            "tensor([[   17, 12508,   280,  ...,   480,   215,    58],\n",
            "        [ 3879, 25667,     5,  ...,   968,    13,    16],\n",
            "        [ 3899,   150, 22867,  ...,     7,  2168,  4674],\n",
            "        ...,\n",
            "        [    5,    50,  3952,  ...,    11,    13,    24],\n",
            "        [ 1845,   106,  9171,  ...,  1033,  8323,  1720],\n",
            "        [ 1026,  4364,     6,  ...,   329,     5, 23167]])\n"
          ],
          "name": "stdout"
        }
      ]
    },
    {
      "cell_type": "code",
      "metadata": {
        "id": "0SF7IxhLvK_c",
        "colab_type": "code",
        "colab": {}
      },
      "source": [
        "class LangModel(nn.Module):\n",
        "    def __init__(self, lang_config):\n",
        "        super(LangModel, self).__init__()\n",
        "        self.vocab_size = lang_config['vocab_size']\n",
        "        self.emb_size = lang_config['emb_size']\n",
        "        self.hidden_size = lang_config['hidden_size']\n",
        "        self.num_layer = lang_config['num_layer']\n",
        "        \n",
        "        self.embedding = None\n",
        "        self.rnn = None\n",
        "        self.linear = None\n",
        "        \n",
        "        ### TODO: \n",
        "        ###    1. Initialize 'self.embedding' with nn.Embedding function and 2 variables we have initialized for you\n",
        "        ###    2. Initialize 'self.rnn' with nn.LSTM function and 3 variables we have initialized for you\n",
        "        ###    3. Initialize 'self.linear' with nn.Linear function and 2 variables we have initialized for you\n",
        "        ### Reference:\n",
        "        ###        https://pytorch.org/docs/stable/nn.html\n",
        "        \n",
        "        ### YOUR CODE HERE (3 lines)\n",
        "        self.embedding = nn.Embedding(num_embeddings=self.vocab_size, embedding_dim=self.emb_size)\n",
        "        self.rnn = nn.LSTM(input_size=self.emb_size, hidden_size=self.hidden_size, num_layers=self.num_layer, batch_first=False)\n",
        "        self.linear = nn.Linear(self.hidden_size, self.vocab_size)\n",
        "        ### END OF YOUR CODE\n",
        "        \n",
        "    def forward(self, batch_sents, hidden=None):\n",
        "        '''\n",
        "        params:\n",
        "            batch_sents: torch.LongTensor of shape (sequence_len, batch_size)\n",
        "        return:\n",
        "            normalized_score: torch.FloatTensor of shape (sequence_len, batch_size, vocab_size)\n",
        "        '''\n",
        "        normalized_score = None\n",
        "        hidden = hidden\n",
        "        ### TODO:\n",
        "        ###      1. Feed the batch_sents to self.embedding  \n",
        "        ###      2. Feed the embeddings to self.rnn. Remember to pass \"hidden\" into self.rnn, even if it is None. But we will \n",
        "        ###         use \"hidden\" when implementing greedy search.\n",
        "        ###      3. Apply linear transformation to the output of self.rnn\n",
        "        ###      4. Apply 'F.log_softmax' to the output of linear transformation\n",
        "        ###\n",
        "        ### YOUR CODE HERE\n",
        "        batch_sents = self.embedding(batch_sents)\n",
        "        LSTM_output, hidden = self.rnn(batch_sents, hidden) \n",
        "        # output is of shape (seq_len, batch, num_directions * hidden_size)\n",
        "        raw_output = self.linear(LSTM_output)\n",
        "        normalized_score = F.log_softmax(raw_output, dim=-1)\n",
        "        # normalized_Score is of shape (seq_len, batch, vocab_size)\n",
        "        ### END OF YOUR CODE\n",
        "        return normalized_score, hidden"
      ],
      "execution_count": 42,
      "outputs": []
    },
    {
      "cell_type": "code",
      "metadata": {
        "id": "-6KDf3GBvK_e",
        "colab_type": "code",
        "colab": {}
      },
      "source": [
        "def train(model, train_iter, valid_iter, vocab_size, criterion, optimizer, num_epochs):\n",
        "    for n in range(num_epochs):\n",
        "        train_loss = 0\n",
        "        target_num = 0\n",
        "        model.train()\n",
        "        for batch in train_iter:\n",
        "            \n",
        "            text, targets = batch.text.to(device), batch.target.to(device)\n",
        "            # target is of shape (seq_len, batch)\n",
        "            loss = None\n",
        "            \n",
        "            ### we don't consider \"hidden\" here. So according to the default setting, \"hidden\" will be None\n",
        "            ### YOU CODE HERE (~5 lines)\n",
        "#             normalized_score = model(text)\n",
        "#             loss_tensor = torch.gather(normalized_score, 2, targets.unsqueeze(2)).squeeze(2)\n",
        "#             # loss_tensor is of shape (seq_len, batch)\n",
        "#             loss = loss_tensor.mean()\n",
        "            optimizer.zero_grad()\n",
        "            output, hidden = model(text)\n",
        "#             print(output.shape)\n",
        "#             print(targets.shape)\n",
        "            loss = criterion(output.view(-1, output.shape[2]), targets.view(-1))\n",
        "            loss.backward()\n",
        "            optimizer.step()\n",
        "            ### END OF YOUR CODE\n",
        "            ##########################################\n",
        "            train_loss += loss.item() * targets.size(0) * targets.size(1)\n",
        "            target_num += targets.size(0) * targets.size(1)\n",
        "\n",
        "        train_loss /= target_num\n",
        "\n",
        "        # monitor the loss of all the predictions\n",
        "        val_loss = 0\n",
        "        target_num = 0\n",
        "        model.eval()\n",
        "        for batch in valid_iter:\n",
        "            text, targets = batch.text.to(device), batch.target.to(device)\n",
        "            \n",
        "            prediction,_ = model(text)\n",
        "            loss = criterion(prediction.view(-1, vocab_size), targets.view(-1))\n",
        "            \n",
        "            val_loss += loss.item() * targets.size(0) * targets.size(1)\n",
        "            target_num += targets.size(0) * targets.size(1)\n",
        "        val_loss /= target_num\n",
        "\n",
        "        print('Epoch: {}, Training Loss: {:.4f}, Validation Loss: {:.4f}'.format(n+1, train_loss, val_loss))            "
      ],
      "execution_count": 43,
      "outputs": []
    },
    {
      "cell_type": "code",
      "metadata": {
        "id": "dEM1sdbCvK_h",
        "colab_type": "code",
        "colab": {}
      },
      "source": [
        "def test(model, vocab_size, criterion, test_iter):\n",
        "    '''\n",
        "    params: \n",
        "        model: LSTM model\n",
        "        test_iter: test data\n",
        "    return:\n",
        "        ppl: perplexity \n",
        "    '''\n",
        "    ppl = None\n",
        "    test_loss = 0\n",
        "    target_num = 0\n",
        "    with torch.no_grad():\n",
        "        for batch in test_iter:\n",
        "            text, targets = batch.text.to(device), batch.target.to(device)\n",
        "\n",
        "            prediction,_ = model(text)\n",
        "            loss = criterion(prediction.view(-1, vocab_size), targets.view(-1))\n",
        "\n",
        "            test_loss += loss.item() * targets.size(0) * targets.size(1)\n",
        "            target_num += targets.size(0) * targets.size(1)\n",
        "\n",
        "        test_loss /= target_num\n",
        "        \n",
        "        ### Compute perplexity according to \"test_loss\"\n",
        "        ### Hint: Consider how the loss is computed.\n",
        "        ### YOUR CODE HERE(1 line)\n",
        "        ppl = np.exp(test_loss)\n",
        "        ### END OF YOUR CODE\n",
        "        return ppl"
      ],
      "execution_count": 44,
      "outputs": []
    },
    {
      "cell_type": "code",
      "metadata": {
        "id": "aQq9AI8AvK_j",
        "colab_type": "code",
        "colab": {}
      },
      "source": [
        "num_epochs=10\n",
        "device = torch.device(\"cuda\" if torch.cuda.is_available() else \"cpu\")\n",
        "vocab_size = len(TEXT.vocab)\n",
        "\n",
        "config = {'vocab_size':vocab_size,\n",
        "         'emb_size':128,\n",
        "         'hidden_size':128,\n",
        "         'num_layer':1}\n",
        "\n",
        "LM = LangModel(config)\n",
        "LM = LM.to(device)\n",
        "\n",
        "criterion = nn.NLLLoss(reduction='mean')\n",
        "optimizer = optim.Adam(LM.parameters(), lr=1e-3, betas=(0.7, 0.99))"
      ],
      "execution_count": 45,
      "outputs": []
    },
    {
      "cell_type": "code",
      "metadata": {
        "id": "OstcIfH3vK_k",
        "colab_type": "code",
        "colab": {
          "base_uri": "https://localhost:8080/",
          "height": 187
        },
        "outputId": "366a4eb7-a7ca-4b9e-a13b-25961f63b233"
      },
      "source": [
        "train(LM, train_iter, valid_iter, vocab_size, criterion, optimizer, num_epochs)"
      ],
      "execution_count": 46,
      "outputs": [
        {
          "output_type": "stream",
          "text": [
            "Epoch: 1, Training Loss: 6.0691, Validation Loss: 5.1777\n",
            "Epoch: 2, Training Loss: 5.4015, Validation Loss: 4.9643\n",
            "Epoch: 3, Training Loss: 5.1293, Validation Loss: 4.8661\n",
            "Epoch: 4, Training Loss: 4.9561, Validation Loss: 4.8139\n",
            "Epoch: 5, Training Loss: 4.8310, Validation Loss: 4.7835\n",
            "Epoch: 6, Training Loss: 4.7311, Validation Loss: 4.7640\n",
            "Epoch: 7, Training Loss: 4.6476, Validation Loss: 4.7501\n",
            "Epoch: 8, Training Loss: 4.5766, Validation Loss: 4.7423\n",
            "Epoch: 9, Training Loss: 4.5150, Validation Loss: 4.7384\n",
            "Epoch: 10, Training Loss: 4.4606, Validation Loss: 4.7392\n"
          ],
          "name": "stdout"
        }
      ]
    },
    {
      "cell_type": "code",
      "metadata": {
        "id": "W6ribORovK_m",
        "colab_type": "code",
        "colab": {
          "base_uri": "https://localhost:8080/",
          "height": 34
        },
        "outputId": "8066eaec-a764-4668-c6d5-66a67f785186"
      },
      "source": [
        "# < 150\n",
        "test(LM, vocab_size, criterion, test_iter)"
      ],
      "execution_count": 47,
      "outputs": [
        {
          "output_type": "execute_result",
          "data": {
            "text/plain": [
              "99.15262130357378"
            ]
          },
          "metadata": {
            "tags": []
          },
          "execution_count": 47
        }
      ]
    },
    {
      "cell_type": "markdown",
      "metadata": {
        "id": "W95znbVqvK_n",
        "colab_type": "text"
      },
      "source": [
        "### Question 6 [code]\n",
        "When we use trained language model to generate a sentence given a start token, we can choose either ``greedy search`` or ``beam search``. \n",
        "<img src=\"greedy.png\" alt=\"drawing\" style=\"width:500px;\"/>\n",
        "\n",
        "As shown above, ``greedy search`` algorithm will pick the token which has the highest probability and feed it to the language model as input in the next time step. The model will generate ``max_len`` number of tokens at most.\n",
        "\n",
        "- Implement ``word_greedy_search``\n",
        "- **[optional]** Implement ``word_beam_search`` "
      ]
    },
    {
      "cell_type": "code",
      "metadata": {
        "id": "c4Cbuo5QvK_n",
        "colab_type": "code",
        "colab": {}
      },
      "source": [
        "def word_greedy_search(model, start_token, max_len):\n",
        "    '''\n",
        "    param:\n",
        "        model: nn.Module --- language model\n",
        "        start_token: str --- e.g. 'he'\n",
        "        max_len: int --- max number of tokens generated\n",
        "    return:\n",
        "        strings: list[str] --- list of tokens, e.g., ['he', 'was', 'a', 'member', 'of',...]\n",
        "    '''\n",
        "    model.eval()\n",
        "    ID = TEXT.vocab.stoi[start_token]\n",
        "    strings = [start_token]\n",
        "    hidden = None\n",
        "    \n",
        "    ### You may find TEXT.vocab.itos useful.\n",
        "    ### YOUR CODE HERE\n",
        "    word_to_idx = {word: i for i, word in enumerate(TEXT.vocab.itos)}\n",
        "    last_word = start_token\n",
        "    while last_word != '<eos>' and len(strings) < max_len:\n",
        "        normalized_score, hidden = model(torch.LongTensor([[word_to_idx[last_word]]]).to(device), hidden)\n",
        "        # normalized_score is of shape torch.Size([1, 1, 28905])\n",
        "        max_idx = torch.argmax(normalized_score, 2).item()\n",
        "        last_word = TEXT.vocab.itos[max_idx]\n",
        "        strings.append(last_word)\n",
        "    ### END OF YOUR CODE \n",
        "    return strings"
      ],
      "execution_count": 48,
      "outputs": []
    },
    {
      "cell_type": "code",
      "metadata": {
        "id": "Rd6YfbqGvK_p",
        "colab_type": "code",
        "colab": {}
      },
      "source": [
        "# BeamNode = namedtuple('BeamNode', ['prev_node', 'prev_hidden', 'wordID', 'score', 'length'])\n",
        "# LMNode = namedtuple('LMNode', ['sent', 'score'])\n",
        "\n",
        "def word_beam_search(model, start_token, max_len, beam_size):\n",
        "    model.eval()\n",
        "    ID = TEXT.vocab.stoi[start_token]\n",
        "    strings = [start_token]\n",
        "    hidden = None\n",
        "    \n",
        "    ### You may find TEXT.vocab.itos useful.\n",
        "    ### YOUR CODE HERE\n",
        "    def calculate_score_next(model, sequence_words, beam_size, word_to_idx, words):\n",
        "        if not sequence_words:\n",
        "            return torch.Tensor([-float('inf')]*beam_size).to(device), torch.zeros((beam_size,), dtype=torch.long).to(device), [None]*beam_size\n",
        "        idx_tensor = torch.LongTensor([word_to_idx[word] for word in sequence_words]).unsqueeze(1).to(device)\n",
        "        hidden = None\n",
        "        # normalized_Score is of shape (seq_len, 1, vocab_size)\n",
        "        # idx_tensor is of shape (sequence_len, 1)\n",
        "        \n",
        "        normalized_score, hidden = model(idx_tensor, hidden)\n",
        "        base_score = torch.sum(normalized_score.squeeze(1).argmax(dim=-1)[:-1])\n",
        "        new_score, new_score_idx = torch.topk(normalized_score.squeeze(1)[-1,:], beam_size, dim=-1)\n",
        "        return base_score+new_score, new_score_idx, [sequence_words+[words[new_score_idx[i]]] for i in range(beam_size)]\n",
        "         # both of shape (beam_size, )\n",
        "    \n",
        "    word_to_idx = {word: i for i, word in enumerate(TEXT.vocab.itos)}\n",
        "#     print(calculate_score_next(model, ['he', 'is'], beam_size, word_to_idx, TEXT.vocab.itos))\n",
        "\n",
        "    def best_k(model, sequences_words, beam_size, word_to_idx, words):\n",
        "        new_scores, new_score_idxes, candidate_sequence = [], [], []\n",
        "        for i in range(beam_size):\n",
        "            new_score, new_score_idx, candidates = \\\n",
        "            calculate_score_next(model, sequences_words[i], beam_size, word_to_idx, words)\n",
        "            new_scores.append(new_score)\n",
        "            new_score_idxes.append(new_score_idx)\n",
        "            candidate_sequence.append(candidates)\n",
        "        new_scores = torch.stack(new_scores).view(-1)\n",
        "        new_score_idxes = torch.stack(new_score_idxes).view(-1)\n",
        "        _, best_idx = torch.topk(new_scores, beam_size, dim=-1)\n",
        "#         print(best_idx)                    \n",
        "        new_sequences = []\n",
        "        for idx in best_idx:\n",
        "            m = (idx.item())//beam_size\n",
        "            n = (idx.item())%beam_size\n",
        "#             print(m,n)\n",
        "#             print(candidate_sequence[m][n])\n",
        "            new_sequences.append(candidate_sequence[m][n])\n",
        "        return new_sequences\n",
        "       \n",
        "#     print(best_k(model, [['he', 'is'], ['she', 'is']], beam_size, word_to_idx, TEXT.vocab.itos))\n",
        "    \n",
        "    def check_stop(sequences_words):\n",
        "        for sequence_words in sequences_words:\n",
        "            if not sequence_words:\n",
        "                continue\n",
        "            if sequence_words[-1] == '<eos>':\n",
        "#                 print('detected')\n",
        "                return True\n",
        "        return False\n",
        "    \n",
        "    sequences_words = [strings] + [None]*(beam_size-1)\n",
        "    print(sequences_words)\n",
        "    i = 1\n",
        "    while not check_stop(sequences_words) and i < max_len:\n",
        "        sequences_words = best_k(model, sequences_words, beam_size, word_to_idx, TEXT.vocab.itos)\n",
        "#         print(i)\n",
        "        print(sequences_words)\n",
        "        i += 1\n",
        "    for sequence_words in sequences_words:\n",
        "        if sequence_words[-1] == '<eos>':\n",
        "            return sequence_words\n",
        "    return None\n",
        "    ### END OF YOUR CODE "
      ],
      "execution_count": 49,
      "outputs": []
    },
    {
      "cell_type": "code",
      "metadata": {
        "id": "3P1lxuTVvK_r",
        "colab_type": "code",
        "colab": {
          "base_uri": "https://localhost:8080/",
          "height": 34
        },
        "outputId": "4903416a-3ff3-4f0c-a224-5624b9b0478e"
      },
      "source": [
        "word_greedy_search(LM, 'he', 64)"
      ],
      "execution_count": 50,
      "outputs": [
        {
          "output_type": "execute_result",
          "data": {
            "text/plain": [
              "['he', 'was', 'a', 'member', 'of', 'the', '<', 'unk', '>', '.', '<eos>']"
            ]
          },
          "metadata": {
            "tags": []
          },
          "execution_count": 50
        }
      ]
    },
    {
      "cell_type": "code",
      "metadata": {
        "id": "A-HEPiB8vK_t",
        "colab_type": "code",
        "colab": {
          "base_uri": "https://localhost:8080/",
          "height": 221
        },
        "outputId": "31469107-e1b4-4da8-9b48-bfaecdcd6ad5"
      },
      "source": [
        "word_beam_search(LM, 'he', 64, 1)"
      ],
      "execution_count": 51,
      "outputs": [
        {
          "output_type": "stream",
          "text": [
            "[['he']]\n",
            "[['he', 'was']]\n",
            "[['he', 'was', 'a']]\n",
            "[['he', 'was', 'a', 'member']]\n",
            "[['he', 'was', 'a', 'member', 'of']]\n",
            "[['he', 'was', 'a', 'member', 'of', 'the']]\n",
            "[['he', 'was', 'a', 'member', 'of', 'the', '<']]\n",
            "[['he', 'was', 'a', 'member', 'of', 'the', '<', 'unk']]\n",
            "[['he', 'was', 'a', 'member', 'of', 'the', '<', 'unk', '>']]\n",
            "[['he', 'was', 'a', 'member', 'of', 'the', '<', 'unk', '>', '.']]\n",
            "[['he', 'was', 'a', 'member', 'of', 'the', '<', 'unk', '>', '.', '<eos>']]\n"
          ],
          "name": "stdout"
        },
        {
          "output_type": "execute_result",
          "data": {
            "text/plain": [
              "['he', 'was', 'a', 'member', 'of', 'the', '<', 'unk', '>', '.', '<eos>']"
            ]
          },
          "metadata": {
            "tags": []
          },
          "execution_count": 51
        }
      ]
    },
    {
      "cell_type": "code",
      "metadata": {
        "id": "nYIXDMPxvZFl",
        "colab_type": "code",
        "colab": {
          "base_uri": "https://localhost:8080/",
          "height": 153
        },
        "outputId": "551b0469-3826-46e9-84d8-d6469b6e31c4"
      },
      "source": [
        "word_beam_search(LM, 'he', 64, 2)"
      ],
      "execution_count": 52,
      "outputs": [
        {
          "output_type": "stream",
          "text": [
            "[['he'], None]\n",
            "[['he', 'was'], ['he', 'had']]\n",
            "[['he', 'had', 'been'], ['he', 'was', 'a']]\n",
            "[['he', 'had', 'been', 'a'], ['he', 'had', 'been', '<']]\n",
            "[['he', 'had', 'been', '<', 'unk'], ['he', 'had', 'been', 'a', 'member']]\n",
            "[['he', 'had', 'been', 'a', 'member', 'of'], ['he', 'had', 'been', 'a', 'member', '.']]\n",
            "[['he', 'had', 'been', 'a', 'member', 'of', 'the'], ['he', 'had', 'been', 'a', 'member', '.', '<eos>']]\n"
          ],
          "name": "stdout"
        },
        {
          "output_type": "execute_result",
          "data": {
            "text/plain": [
              "['he', 'had', 'been', 'a', 'member', '.', '<eos>']"
            ]
          },
          "metadata": {
            "tags": []
          },
          "execution_count": 52
        }
      ]
    },
    {
      "cell_type": "markdown",
      "metadata": {
        "id": "_Jb3wbn7vK_y",
        "colab_type": "text"
      },
      "source": [
        "# char-level LM"
      ]
    },
    {
      "cell_type": "markdown",
      "metadata": {
        "id": "ZJEbu42VvK_y",
        "colab_type": "text"
      },
      "source": [
        "### Question 7 [code]\n",
        "- Implement ``char_tokenizer``\n",
        "- Implement ``CharLangModel``, ``char_train``, ``char_test``\n",
        "- Implement ``char_greedy_search``"
      ]
    },
    {
      "cell_type": "code",
      "metadata": {
        "id": "t4Ty00iMvK_z",
        "colab_type": "code",
        "colab": {}
      },
      "source": [
        "def char_tokenizer(string):\n",
        "    '''\n",
        "    param:\n",
        "        string: str --- e.g. \"I love this assignment\"\n",
        "    return:\n",
        "        char_list: list[str] --- e.g. ['I', 'l', 'o', 'v', 'e', ' ', 't', 'h', 'i', 's', ...]\n",
        "    '''\n",
        "    char_list = None\n",
        "    ### YOUR CODE HERE\n",
        "    char_list = list(string)\n",
        "    ### END OF YOUR CODE\n",
        "    return char_list"
      ],
      "execution_count": 53,
      "outputs": []
    },
    {
      "cell_type": "code",
      "metadata": {
        "id": "mcceolvJvK_0",
        "colab_type": "code",
        "colab": {
          "base_uri": "https://localhost:8080/",
          "height": 34
        },
        "outputId": "cfd59bca-f075-4840-b44c-e82f882c6d9e"
      },
      "source": [
        "test_str = 'test test test'\n",
        "char_tokenizer(test_str)"
      ],
      "execution_count": 54,
      "outputs": [
        {
          "output_type": "execute_result",
          "data": {
            "text/plain": [
              "['t', 'e', 's', 't', ' ', 't', 'e', 's', 't', ' ', 't', 'e', 's', 't']"
            ]
          },
          "metadata": {
            "tags": []
          },
          "execution_count": 54
        }
      ]
    },
    {
      "cell_type": "code",
      "metadata": {
        "id": "oahO4ZYVvK_3",
        "colab_type": "code",
        "colab": {}
      },
      "source": [
        "CHAR_TEXT = data.Field(lower=True, tokenize=char_tokenizer ,init_token='<START>', eos_token='<STOP>')\n",
        "ctrain, cvalid, ctest = WikiText2.splits(CHAR_TEXT)  "
      ],
      "execution_count": 55,
      "outputs": []
    },
    {
      "cell_type": "code",
      "metadata": {
        "id": "NGOC964-vK_5",
        "colab_type": "code",
        "colab": {
          "base_uri": "https://localhost:8080/",
          "height": 34
        },
        "outputId": "7e3e13cc-99a6-4d32-d6aa-207b3f8709f5"
      },
      "source": [
        "CHAR_TEXT.build_vocab(ctrain)\n",
        "print('Vocabulary size:', len(CHAR_TEXT.vocab))"
      ],
      "execution_count": 56,
      "outputs": [
        {
          "output_type": "stream",
          "text": [
            "Vocabulary size: 247\n"
          ],
          "name": "stdout"
        }
      ]
    },
    {
      "cell_type": "code",
      "metadata": {
        "id": "gBNREQJkvK_8",
        "colab_type": "code",
        "colab": {}
      },
      "source": [
        "BATCH_SIZE = 32\n",
        "# the length of a piece of text feeding to the RNN layer\n",
        "BPTT_LEN = 128        \n",
        "# train, validation, test data\n",
        "ctrain_iter, cvalid_iter, ctest_iter = data.BPTTIterator.splits((ctrain, cvalid, ctest),\n",
        "                                                                batch_size=BATCH_SIZE,\n",
        "                                                                bptt_len=BPTT_LEN,\n",
        "                                                                repeat=False)"
      ],
      "execution_count": 57,
      "outputs": []
    },
    {
      "cell_type": "code",
      "metadata": {
        "id": "OaPCTn8RvK_-",
        "colab_type": "code",
        "colab": {}
      },
      "source": [
        "class CharLangModel(nn.Module):\n",
        "    def __init__(self, lang_config):\n",
        "        ### YOUR CODE HERE\n",
        "        super(CharLangModel, self).__init__()\n",
        "        self.vocab_size = lang_config['vocab_size']\n",
        "        self.emb_size = lang_config['emb_size']\n",
        "        self.hidden_size = lang_config['hidden_size']\n",
        "        self.num_layer = lang_config['num_layer']\n",
        "        \n",
        "        self.embedding = None\n",
        "        self.rnn = None\n",
        "        self.linear = None\n",
        "        \n",
        "        ### TODO: \n",
        "        ###    1. Initialize 'self.embedding' with nn.Embedding function and 2 variables we have initialized for you\n",
        "        ###    2. Initialize 'self.rnn' with nn.LSTM function and 3 variables we have initialized for you\n",
        "        ###    3. Initialize 'self.linear' with nn.Linear function and 2 variables we have initialized for you\n",
        "        ### Reference:\n",
        "        ###        https://pytorch.org/docs/stable/nn.html\n",
        "        \n",
        "        ### YOUR CODE HERE (3 lines)\n",
        "        self.embedding = nn.Embedding(num_embeddings=self.vocab_size, embedding_dim=self.emb_size)\n",
        "        self.rnn = nn.LSTM(input_size=self.emb_size, hidden_size=self.hidden_size, num_layers=self.num_layer, batch_first=False)\n",
        "        self.linear = nn.Linear(self.hidden_size, self.vocab_size)\n",
        "        ### END OF YOUR CODE\n",
        "        \n",
        "    def forward(self, batch_sents, hidden=None):\n",
        "        ### YOUR CODE HERE\n",
        "        normalized_score = None\n",
        "        hidden = hidden\n",
        "        ### TODO:\n",
        "        ###      1. Feed the batch_sents to self.embedding  \n",
        "        ###      2. Feed the embeddings to self.rnn. Remember to pass \"hidden\" into self.rnn, even if it is None. But we will \n",
        "        ###         use \"hidden\" when implementing greedy search.\n",
        "        ###      3. Apply linear transformation to the output of self.rnn\n",
        "        ###      4. Apply 'F.log_softmax' to the output of linear transformation\n",
        "        ###\n",
        "        ### YOUR CODE HERE\n",
        "        batch_sents = self.embedding(batch_sents)\n",
        "        LSTM_output, hidden = self.rnn(batch_sents, hidden) \n",
        "        # output is of shape (seq_len, batch, num_directions * hidden_size)\n",
        "        raw_output = self.linear(LSTM_output)\n",
        "        normalized_score = F.log_softmax(raw_output, dim=-1)\n",
        "        # normalized_Score is of shape (seq_len, batch, vocab_size)\n",
        "        ### END OF YOUR CODE\n",
        "        return normalized_score, hidden\n",
        "        "
      ],
      "execution_count": 58,
      "outputs": []
    },
    {
      "cell_type": "code",
      "metadata": {
        "id": "VTRbPIk1vLAB",
        "colab_type": "code",
        "colab": {}
      },
      "source": [
        "def char_train(model, train_iter, valid_iter, criterion, optimizer, vocab_size, num_epochs):\n",
        "    ### YOUR CODE HERE\n",
        "    for n in range(num_epochs):\n",
        "        train_loss = 0\n",
        "        target_num = 0\n",
        "        model.train()\n",
        "        for batch in train_iter:\n",
        "            \n",
        "            text, targets = batch.text.to(device), batch.target.to(device)\n",
        "            # target is of shape (seq_len, batch)\n",
        "            loss = None\n",
        "            \n",
        "            ### we don't consider \"hidden\" here. So according to the default setting, \"hidden\" will be None\n",
        "            ### YOU CODE HERE (~5 lines)\n",
        "#             normalized_score = model(text)\n",
        "#             loss_tensor = torch.gather(normalized_score, 2, targets.unsqueeze(2)).squeeze(2)\n",
        "#             # loss_tensor is of shape (seq_len, batch)\n",
        "#             loss = loss_tensor.mean()\n",
        "            optimizer.zero_grad()\n",
        "            output, hidden = model(text)\n",
        "#             print(output.shape)\n",
        "#             print(targets.shape)\n",
        "            loss = criterion(output.view(-1, output.shape[2]), targets.view(-1))\n",
        "            loss.backward()\n",
        "            optimizer.step()\n",
        "            ### END OF YOUR CODE\n",
        "            ##########################################\n",
        "            train_loss += loss.item() * targets.size(0) * targets.size(1)\n",
        "            target_num += targets.size(0) * targets.size(1)\n",
        "\n",
        "        train_loss /= target_num\n",
        "\n",
        "        # monitor the loss of all the predictions\n",
        "        val_loss = 0\n",
        "        target_num = 0\n",
        "        model.eval()\n",
        "        for batch in valid_iter:\n",
        "            text, targets = batch.text.to(device), batch.target.to(device)\n",
        "            \n",
        "            prediction,_ = model(text)\n",
        "            loss = criterion(prediction.view(-1, vocab_size), targets.view(-1))\n",
        "            \n",
        "            val_loss += loss.item() * targets.size(0) * targets.size(1)\n",
        "            target_num += targets.size(0) * targets.size(1)\n",
        "        val_loss /= target_num\n",
        "\n",
        "        print('Epoch: {}, Training Loss: {:.4f}, Validation Loss: {:.4f}'.format(n+1, train_loss, val_loss))            "
      ],
      "execution_count": 59,
      "outputs": []
    },
    {
      "cell_type": "code",
      "metadata": {
        "id": "YHW5QDFuvLAC",
        "colab_type": "code",
        "colab": {}
      },
      "source": [
        "def char_test(model, vocab_size, test_iter, criterion):\n",
        "    ### YOUR CODE HERE\n",
        "    ppl = None\n",
        "    test_loss = 0\n",
        "    target_num = 0\n",
        "    with torch.no_grad():\n",
        "        for batch in test_iter:\n",
        "            text, targets = batch.text.to(device), batch.target.to(device)\n",
        "\n",
        "            prediction,_ = model(text)\n",
        "            loss = criterion(prediction.view(-1, vocab_size), targets.view(-1))\n",
        "\n",
        "            test_loss += loss.item() * targets.size(0) * targets.size(1)\n",
        "            target_num += targets.size(0) * targets.size(1)\n",
        "\n",
        "        test_loss /= target_num\n",
        "        \n",
        "        ### Compute perplexity according to \"test_loss\"\n",
        "        ### Hint: Consider how the loss is computed.\n",
        "        ### YOUR CODE HERE(1 line)\n",
        "        ppl = np.exp(test_loss)\n",
        "        ### END OF YOUR CODE\n",
        "        return ppl"
      ],
      "execution_count": 60,
      "outputs": []
    },
    {
      "cell_type": "code",
      "metadata": {
        "id": "u6WaFvj4vLAE",
        "colab_type": "code",
        "colab": {}
      },
      "source": [
        "num_epochs=10\n",
        "device = torch.device(\"cuda\" if torch.cuda.is_available() else \"cpu\")\n",
        "char_vocab_size = len(CHAR_TEXT.vocab)\n",
        "\n",
        "config = {'vocab_size':char_vocab_size,\n",
        "         'emb_size':128,\n",
        "         'hidden_size':128,\n",
        "         'num_layer':1}\n",
        "\n",
        "CLM = CharLangModel(config)\n",
        "CLM = CLM.to(device)\n",
        "\n",
        "char_criterion = nn.NLLLoss(reduction='mean')\n",
        "char_optimizer = optim.Adam(CLM.parameters(), lr=1e-3, betas=(0.7, 0.99))"
      ],
      "execution_count": 61,
      "outputs": []
    },
    {
      "cell_type": "code",
      "metadata": {
        "id": "RRJuw0RHvLAF",
        "colab_type": "code",
        "colab": {
          "base_uri": "https://localhost:8080/",
          "height": 187
        },
        "outputId": "68f148e9-da62-4d17-affa-cc3f9a22ee5f"
      },
      "source": [
        "char_train(CLM, ctrain_iter, cvalid_iter, char_criterion, char_optimizer, char_vocab_size, num_epochs)"
      ],
      "execution_count": 62,
      "outputs": [
        {
          "output_type": "stream",
          "text": [
            "Epoch: 1, Training Loss: 1.8419, Validation Loss: 1.5488\n",
            "Epoch: 2, Training Loss: 1.5470, Validation Loss: 1.4423\n",
            "Epoch: 3, Training Loss: 1.4730, Validation Loss: 1.3961\n",
            "Epoch: 4, Training Loss: 1.4351, Validation Loss: 1.3709\n",
            "Epoch: 5, Training Loss: 1.4113, Validation Loss: 1.3537\n",
            "Epoch: 6, Training Loss: 1.3945, Validation Loss: 1.3416\n",
            "Epoch: 7, Training Loss: 1.3816, Validation Loss: 1.3317\n",
            "Epoch: 8, Training Loss: 1.3712, Validation Loss: 1.3234\n",
            "Epoch: 9, Training Loss: 1.3628, Validation Loss: 1.3166\n",
            "Epoch: 10, Training Loss: 1.3559, Validation Loss: 1.3110\n"
          ],
          "name": "stdout"
        }
      ]
    },
    {
      "cell_type": "code",
      "metadata": {
        "id": "GLGIApbmvLAH",
        "colab_type": "code",
        "colab": {
          "base_uri": "https://localhost:8080/",
          "height": 34
        },
        "outputId": "5b506a20-6ed6-4849-f2fc-8619588db293"
      },
      "source": [
        "# <10\n",
        "char_test(CLM, char_vocab_size, ctest_iter, char_criterion)"
      ],
      "execution_count": 63,
      "outputs": [
        {
          "output_type": "execute_result",
          "data": {
            "text/plain": [
              "3.6844402887921337"
            ]
          },
          "metadata": {
            "tags": []
          },
          "execution_count": 63
        }
      ]
    },
    {
      "cell_type": "code",
      "metadata": {
        "id": "NtYXJeJbvLAI",
        "colab_type": "code",
        "colab": {}
      },
      "source": [
        "def char_greedy_search(model, start_token, max_len):\n",
        "    '''\n",
        "    param:\n",
        "        model: nn.Module --- language model\n",
        "        start_token: str --- e.g. 'h'\n",
        "        max_len: int --- max number of tokens generated\n",
        "    return:\n",
        "        strings: list[str] --- list of tokens, e.g., ['h', 'e', ' ', 'i', 's',...]\n",
        "    '''   \n",
        "    model.eval()\n",
        "    ID = CHAR_TEXT.vocab.stoi[start_token]\n",
        "    strings = [start_token]\n",
        "    hidden = None\n",
        "    \n",
        "    ### You may find CHAR_TEXT.vocab.itos useful.\n",
        "    ### YOUR CODE HERE\n",
        "    char_to_idx = {char: i for i, char in enumerate(CHAR_TEXT.vocab.itos)}\n",
        "    last_char = start_token\n",
        "    while last_char != '<STOP>' and len(strings) < max_len:\n",
        "        normalized_score, hidden = model(torch.LongTensor([[char_to_idx[last_char]]]).to(device), hidden)\n",
        "        # normalized_score is of shape torch.Size([1, 1, 28905])\n",
        "        max_idx = torch.argmax(normalized_score, 2).item()\n",
        "        last_char = CHAR_TEXT.vocab.itos[max_idx]\n",
        "        strings.append(last_char)\n",
        "    ### END OF YOUR CODE \n",
        "    return strings"
      ],
      "execution_count": 64,
      "outputs": []
    },
    {
      "cell_type": "code",
      "metadata": {
        "id": "iaC5kJ3AhkAM",
        "colab_type": "code",
        "colab": {
          "base_uri": "https://localhost:8080/",
          "height": 1000
        },
        "outputId": "32bcf7b0-6898-4a88-e042-f5cad0022155"
      },
      "source": [
        "char_greedy_search(CLM, 'h', 64)"
      ],
      "execution_count": 65,
      "outputs": [
        {
          "output_type": "execute_result",
          "data": {
            "text/plain": [
              "['h',\n",
              " 'e',\n",
              " ' ',\n",
              " 's',\n",
              " 't',\n",
              " 'a',\n",
              " 't',\n",
              " 'e',\n",
              " ' ',\n",
              " ',',\n",
              " ' ',\n",
              " 'a',\n",
              " 'n',\n",
              " 'd',\n",
              " ' ',\n",
              " 't',\n",
              " 'h',\n",
              " 'e',\n",
              " ' ',\n",
              " 's',\n",
              " 't',\n",
              " 'o',\n",
              " 'r',\n",
              " 'y',\n",
              " ' ',\n",
              " ',',\n",
              " ' ',\n",
              " 'a',\n",
              " 'n',\n",
              " 'd',\n",
              " ' ',\n",
              " 't',\n",
              " 'h',\n",
              " 'e',\n",
              " ' ',\n",
              " 's',\n",
              " 't',\n",
              " 'o',\n",
              " 'r',\n",
              " 'y',\n",
              " ' ',\n",
              " ',',\n",
              " ' ',\n",
              " 'a',\n",
              " 'n',\n",
              " 'd',\n",
              " ' ',\n",
              " 't',\n",
              " 'h',\n",
              " 'e',\n",
              " ' ',\n",
              " 's',\n",
              " 't',\n",
              " 'o',\n",
              " 'r',\n",
              " 'y',\n",
              " ' ',\n",
              " ',',\n",
              " ' ',\n",
              " 'a',\n",
              " 'n',\n",
              " 'd',\n",
              " ' ',\n",
              " 't']"
            ]
          },
          "metadata": {
            "tags": []
          },
          "execution_count": 65
        }
      ]
    },
    {
      "cell_type": "markdown",
      "metadata": {
        "colab_type": "text",
        "collapsed": true,
        "id": "cernoBq6CdX9"
      },
      "source": [
        "### Requirements:\n",
        "- This is an individual report.\n",
        "- Complete the code using Python.\n",
        "- List students with whom you have discussed if there are any.\n",
        "- Follow the honor code strictly."
      ]
    },
    {
      "cell_type": "markdown",
      "metadata": {
        "colab_type": "text",
        "id": "bDOUuC7-CdX-"
      },
      "source": [
        "### Free GPU Resources\n",
        "We suggest that you run neural language models on machines with GPU(s). Google provides the free online platform [Colaboratory](https://colab.research.google.com/notebooks/welcome.ipynb), a research tool for machine learning education and research. It’s a Jupyter notebook environment that requires no setup to use as common packages have been  pre-installed. Google users can have access to a Tesla T4 GPU (approximately 15G memory). Note that when you connect to a GPU-based VM runtime, you are given a maximum of 12 hours at a time on the VM.\n",
        "\n",
        "It is convenient to upload local Jupyter Notebook files and data to Colab, please refer to the [tutorial](https://colab.research.google.com/notebooks/io.ipynb). \n",
        "\n",
        "In addition, Microsoft also provides the online platform [Azure Notebooks](https://notebooks.azure.com/help/introduction) for research of data science and machine learning, there are free trials for new users with credits."
      ]
    }
  ]
}